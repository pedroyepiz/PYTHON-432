{
  "cells": [
    {
      "cell_type": "markdown",
      "metadata": {
        "id": "view-in-github",
        "colab_type": "text"
      },
      "source": [
        "<a href=\"https://colab.research.google.com/github/pedroyepiz/PYTHON-432/blob/main/EJEMPLO_ACT8.ipynb\" target=\"_parent\"><img src=\"https://colab.research.google.com/assets/colab-badge.svg\" alt=\"Open In Colab\"/></a>"
      ]
    },
    {
      "cell_type": "code",
      "execution_count": 2,
      "metadata": {
        "id": "cYH-3_oTiF_E"
      },
      "outputs": [],
      "source": [
        "from google.colab import output\n",
        "import json\n",
        "import pprint"
      ]
    },
    {
      "cell_type": "code",
      "execution_count": 3,
      "metadata": {
        "colab": {
          "base_uri": "https://localhost:8080/",
          "height": 36
        },
        "id": "aSRYu62xUi3g",
        "outputId": "2625434f-1d07-457a-9aa8-a606dd669ea2"
      },
      "outputs": [
        {
          "output_type": "execute_result",
          "data": {
            "text/plain": [
              "'1.3.5'"
            ],
            "application/vnd.google.colaboratory.intrinsic+json": {
              "type": "string"
            }
          },
          "metadata": {},
          "execution_count": 3
        }
      ],
      "source": [
        "from __future__ import print_function\n",
        "import pandas as pd\n",
        "pd.__version__"
      ]
    },
    {
      "cell_type": "code",
      "execution_count": 4,
      "metadata": {
        "id": "vvKuVVZ9USNv"
      },
      "outputs": [],
      "source": [
        "import random as rn\n",
        "import numpy"
      ]
    },
    {
      "cell_type": "code",
      "execution_count": 5,
      "metadata": {
        "id": "TUn431_xe7-R"
      },
      "outputs": [],
      "source": [
        "def pausa():\n",
        "  x=input(\"PRESIONA UNA TECLA PARA CONTINUAR \")"
      ]
    },
    {
      "cell_type": "code",
      "execution_count": 6,
      "metadata": {
        "id": "aa10y5MtfDJQ"
      },
      "outputs": [],
      "source": [
        "def cls():\n",
        "  output.clear()"
      ]
    },
    {
      "cell_type": "code",
      "execution_count": 8,
      "metadata": {
        "id": "h2SncBDfUde_"
      },
      "outputs": [],
      "source": [
        "def gendatos(claves):\n",
        "  lsexo=[\"HOMBRE\",\"MUJER\"]\n",
        "  sexo=rn.choice(lsexo)\n",
        "  if sexo == \"HOMBRE\" :\n",
        "    nombre = [\"JUAN\",\"ERNESTO\",\"SANTIAGO\",\"MATEO\",\"SEBASTIAN\",\"PEDRO\",\"JAIME\"]\n",
        "  else:\n",
        "    nombre = [\"REYNA\",\"ALICIA\",\"MARIA\",\"GRACIELA\",\"PAOLA\",\"ROSA\",\"LILIANA\",\"LUZ\",\"DIANA\"]\n",
        "\n",
        "  ape= [\"PEREZ\",\"MENDEZ\",\"SANCHEZ\",\"PARRA\",\"NUÑEZ\",\"MORALES\",\"CASAS\",\"DE LA TORRE\",\"LOPEZ\"]  \n",
        "  datos=[rn.randrange(100,32000),rn.choice(nombre),rn.choice(ape),rn.choice(ape),sexo,rn.randrange(17,75)]\n",
        "  dicc  = dict()\n",
        "  dicc=dict(zip(claves,datos))\n",
        "  return dicc"
      ]
    },
    {
      "cell_type": "code",
      "source": [
        "def gendatos2(claves):\n",
        "  lsexo=[\"HOMBRE\",\"MUJER\"]\n",
        "  sexo=rn.choice(lsexo)\n",
        "  if sexo == \"HOMBRE\" :\n",
        "    nombre = [\"JUAN\",\"ERNESTO\",\"SANTIAGO\",\"MATEO\",\"SEBASTIAN\",\"PEDRO\",\"JAIME\"]\n",
        "  else:\n",
        "    nombre = [\"REYNA\",\"ALICIA\",\"MARIA\",\"GRACIELA\",\"PAOLA\",\"ROSA\",\"LILIANA\",\"LUZ\",\"DIANA\"]\n",
        "\n",
        "  ape= [\"PEREZ\",\"MENDEZ\",\"SANCHEZ\",\"PARRA\",\"NUÑEZ\",\"MORALES\",\"CASAS\",\"DE LA TORRE\",\"LOPEZ\"]  \n",
        "  datos=[rn.randrange(100,32000),rn.choice(nombre),sexo,rn.randrange(17,75)]\n",
        "  dicc  = dict()\n",
        "  dicc=dict(zip(claves,datos))\n",
        "  return dicc"
      ],
      "metadata": {
        "id": "95_WTrO08VAt"
      },
      "execution_count": 9,
      "outputs": []
    },
    {
      "cell_type": "code",
      "execution_count": 10,
      "metadata": {
        "id": "_xnbElY_aBsZ"
      },
      "outputs": [],
      "source": [
        "def letreros():\n",
        "  cls()\n",
        "  print (\"        M  E   N   U\")\n",
        "  print (\"1.- AGREGAR REGISTRO\")\n",
        "  print (\"2.- ELIMINAR REGISRO\")\n",
        "  print (\"3.- BUSCAR REGISTRO\")\n",
        "  print (\"4.- ORDENAR LISTA\")\n",
        "  print (\"5.- IMPRIMIR LISTA\")\n",
        "  print (\"0.- SALIR\")\n",
        "  print (\"ESCOGE UNA OPCION: \")\n",
        "  try:\n",
        "    op=int(input())\n",
        "    if op >= 0:\n",
        "      if op <= 5:\n",
        "        return op\n",
        "  except:\n",
        "    return -1  \n",
        "\n"
      ]
    },
    {
      "cell_type": "code",
      "execution_count": 11,
      "metadata": {
        "id": "1tf8jshmfr1h"
      },
      "outputs": [],
      "source": [
        "def menu():\n",
        "  claves = [\"id\",\"nombre\",\"apPat\",\"apMat\",\"sexo\",\"edad\"]\n",
        "  lista =list()\n",
        "  op=-1\n",
        "  while op != 0 :\n",
        "    op=letreros()\n",
        "    if op == 1:\n",
        "      lista.append(gendatos(claves))\n",
        "    \n",
        "        \n",
        "        \n"
      ]
    },
    {
      "cell_type": "code",
      "execution_count": null,
      "metadata": {
        "colab": {
          "background_save": true
        },
        "id": "RFce3HyDgstH"
      },
      "outputs": [],
      "source": [
        "\n",
        "menu()"
      ]
    },
    {
      "cell_type": "markdown",
      "source": [
        "___"
      ],
      "metadata": {
        "id": "Qve56YaJmXXY"
      }
    },
    {
      "cell_type": "markdown",
      "source": [
        "#pprint — Impresión bonita de estructuturas de datos"
      ],
      "metadata": {
        "id": "HbV20IVkmZM4"
      }
    },
    {
      "cell_type": "code",
      "source": [
        "claves = [\"id\",\"nombre\",\"apPat\",\"apMat\",\"sexo\",\"edad\"]\n",
        "xlista=list()\n",
        "for i in range(5):\n",
        "  xlista.append(gendatos(claves))\n",
        "d=gendatos(claves)\n",
        "pprint.pprint(xlista)\n"
      ],
      "metadata": {
        "id": "CZ-jlQ5-i0j4"
      },
      "execution_count": null,
      "outputs": []
    },
    {
      "cell_type": "code",
      "source": [
        "claves = [\"id\",\"nombre\",\"sexo\",\"edad\"]\n",
        "xlista=list()\n",
        "for i in range(10):\n",
        "  xlista.append(gendatos2(claves))\n",
        "d=gendatos(claves)\n",
        "pprint.pprint(xlista)"
      ],
      "metadata": {
        "id": "4h-G2ZLn8ru-"
      },
      "execution_count": null,
      "outputs": []
    },
    {
      "cell_type": "code",
      "source": [
        "import pprint\n",
        "\n",
        "dct_arr = [\n",
        "  {'Name': 'John', 'Age': '23', 'Country': 'USA'},\n",
        "  {'Name': 'Jose', 'Age': '44', 'Country': 'Spain'},\n",
        "  {'Name': 'Anne', 'Age': '29', 'Country': 'UK'},\n",
        "  {'Name': 'Lee', 'Age': '35', 'Country': 'Japan'}\n",
        "]\n",
        "\n",
        "pprint.pprint(dct_arr)"
      ],
      "metadata": {
        "colab": {
          "base_uri": "https://localhost:8080/"
        },
        "id": "Pyell7018Gnj",
        "outputId": "dc98c640-f380-49d1-db9a-6be582f05cf4"
      },
      "execution_count": 13,
      "outputs": [
        {
          "output_type": "stream",
          "name": "stdout",
          "text": [
            "[{'Age': '23', 'Country': 'USA', 'Name': 'John'},\n",
            " {'Age': '44', 'Country': 'Spain', 'Name': 'Jose'},\n",
            " {'Age': '29', 'Country': 'UK', 'Name': 'Anne'},\n",
            " {'Age': '35', 'Country': 'Japan', 'Name': 'Lee'}]\n"
          ]
        }
      ]
    },
    {
      "cell_type": "code",
      "source": [
        "import json\n",
        "\n",
        "dct_arr = [\n",
        "  {'Name': 'John', 'Age': '23', 'Country': 'USA'},\n",
        "  {'Name': 'Jose', 'Age': '44', 'Country': 'Spain'},\n",
        "  {'Name': 'Anne', 'Age': '29', 'Country': 'UK'},\n",
        "  {'Name': 'Lee', 'Age': '35', 'Country': 'Japan'}\n",
        "]\n",
        "\n",
        "print(json.dumps(dct_arr, sort_keys=False, indent=4))\n"
      ],
      "metadata": {
        "id": "IHplctzf9VRw"
      },
      "execution_count": null,
      "outputs": []
    },
    {
      "cell_type": "code",
      "source": [
        "from pickle import FALSE\n",
        "claves = [\"id\",\"nombre\",\"sexo\",\"edad\"]\n",
        "xlista=list()\n",
        "for i in range(5):\n",
        "  xlista.append(gendatos2(claves))\n",
        "d=gendatos(claves)\n",
        "print(json.dumps(xlista, sort_keys=False, indent=4))"
      ],
      "metadata": {
        "id": "v_2V5ErR9lLQ"
      },
      "execution_count": null,
      "outputs": []
    },
    {
      "cell_type": "markdown",
      "source": [],
      "metadata": {
        "id": "DAVDYXR6n9nX"
      }
    }
  ],
  "metadata": {
    "colab": {
      "provenance": [],
      "authorship_tag": "ABX9TyNB9/XpEsp1BLYNDUKsmHBU",
      "include_colab_link": true
    },
    "kernelspec": {
      "display_name": "Python 3",
      "name": "python3"
    },
    "language_info": {
      "name": "python"
    }
  },
  "nbformat": 4,
  "nbformat_minor": 0
}