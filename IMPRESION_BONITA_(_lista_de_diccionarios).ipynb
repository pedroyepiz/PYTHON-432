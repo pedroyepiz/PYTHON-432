{
  "nbformat": 4,
  "nbformat_minor": 0,
  "metadata": {
    "colab": {
      "provenance": [],
      "authorship_tag": "ABX9TyPGkJgZtXrB4NnhzbGW8IV+"
    },
    "kernelspec": {
      "name": "python3",
      "display_name": "Python 3"
    },
    "language_info": {
      "name": "python"
    }
  },
  "cells": [
    {
      "cell_type": "markdown",
      "source": [
        "# **Impresión bonita de un diccionario en Python**\n",
        "* Utilice **pprint()** para imprimir un diccionario en Python\n",
        "* Utilice **json.dumps()** para imprimir un diccionario en Python\n",
        "* Usar **yaml.dump()** para imprimir un diccionario en Python"
      ],
      "metadata": {
        "id": "mfIBJdQA6yZJ"
      }
    },
    {
      "cell_type": "markdown",
      "source": [
        "# **Utilice pprint() para imprimir un diccionario en Python**"
      ],
      "metadata": {
        "id": "6GhLJevM759k"
      }
    },
    {
      "cell_type": "markdown",
      "source": [
        "pprint es un módulo de Python que proporciona la capacidad de imprimir de forma bonita los tipos de datos de Python para que sean más legibles. Este módulo también soporta la impresión bonita de diccionarios.\n",
        "\n",
        "Dentro del módulo pprint hay una función con el mismo nombre pprint(), que es la función que se utiliza para la impresión bonita de la cadena u objeto dado.\n",
        "\n",
        "Primero, declara un array de diccionarios. Después, imprímelo usando la función **pprint.pprint()**."
      ],
      "metadata": {
        "id": "V-ggH61x8Cc9"
      }
    },
    {
      "cell_type": "code",
      "execution_count": null,
      "metadata": {
        "colab": {
          "base_uri": "https://localhost:8080/"
        },
        "id": "teJO-i6m6t7h",
        "outputId": "e2f6eb54-9d64-48b9-e483-b2bf90440f4a"
      },
      "outputs": [
        {
          "output_type": "stream",
          "name": "stdout",
          "text": [
            "[{'age': 32, 'country': 'Libano', 'name': 'Mia'},\n",
            " {'age': 33, 'country': 'Planeta Vegeta', 'name': 'Goku'},\n",
            " {'age': 28, 'country': 'Planeta Vegeta', 'name': 'Vegueta'},\n",
            " {'age': 48, 'country': 'Asgard', 'name': 'Thor'}]\n"
          ]
        }
      ],
      "source": [
        "import pprint\n",
        "\n",
        "dct_arr = [\n",
        "        { \"name\": \"Mia\", \"age\": 32,\"country\":\"Libano\" },\n",
        "        { \"name\": \"Goku\", \"age\": 33,\"country\":\"Planeta Vegeta\" },\n",
        "        { \"name\": \"Vegueta\", \"age\": 28, \"country\":\"Planeta Vegeta\"},\n",
        "        { \"name\": \"Thor\", \"age\": 48,\"country\":\"Asgard\" }\n",
        "       ]\n",
        "\n",
        "pprint.pprint(dct_arr)"
      ]
    },
    {
      "cell_type": "code",
      "source": [
        "import pprint\n",
        "dct_arr = [\n",
        "        { \"name\": {\"nombre\":\"Mia\",\"apellido\":\"De Yepiz\"}, \"age\": 32,\"country\":\"Libano\" },\n",
        "        { \"name\": {\"nombre\":\"Goku\",\"apellido\":\"Lopez\"}, \"age\": 33,\"country\":\"Planeta Vegeta\" },\n",
        "        { \"name\": {\"nombre\":\"Vegueta\",\"apellido\":\"Garcia\"}, \"age\": 28, \"country\":\"Planeta Vegeta\"},\n",
        "        { \"name\": {\"nombre\":\"Thor\",\"apellido\":\"De Tello\"}, \"age\": 48,\"country\":\"Asgard\" }\n",
        "       ]\n",
        "pprint.pprint(dct_arr)       "
      ],
      "metadata": {
        "colab": {
          "base_uri": "https://localhost:8080/"
        },
        "id": "8ESF3NBIGdt2",
        "outputId": "99dc21f3-d2bc-4895-ce7a-bb2b4ff0222b"
      },
      "execution_count": null,
      "outputs": [
        {
          "output_type": "stream",
          "name": "stdout",
          "text": [
            "[{'age': 32,\n",
            "  'country': 'Libano',\n",
            "  'name': {'apellido': 'De Yepiz', 'nombre': 'Mia'}},\n",
            " {'age': 33,\n",
            "  'country': 'Planeta Vegeta',\n",
            "  'name': {'apellido': 'Lopez', 'nombre': 'Goku'}},\n",
            " {'age': 28,\n",
            "  'country': 'Planeta Vegeta',\n",
            "  'name': {'apellido': 'Garcia', 'nombre': 'Vegueta'}},\n",
            " {'age': 48,\n",
            "  'country': 'Asgard',\n",
            "  'name': {'apellido': 'De Tello', 'nombre': 'Thor'}}]\n"
          ]
        }
      ]
    },
    {
      "cell_type": "markdown",
      "source": [
        "**IMPRSION NORMAL DE UN DICCIONARIO**"
      ],
      "metadata": {
        "id": "9a3RdFrGdxqR"
      }
    },
    {
      "cell_type": "code",
      "source": [
        "print (dct_arr)"
      ],
      "metadata": {
        "colab": {
          "base_uri": "https://localhost:8080/"
        },
        "id": "CnvcmHqz-k2C",
        "outputId": "653fd99d-64a7-42ef-a9e5-3a32866a488c"
      },
      "execution_count": null,
      "outputs": [
        {
          "output_type": "stream",
          "name": "stdout",
          "text": [
            "[{'name': 'Mia', 'age': 32, 'country': 'Libano'}, {'name': 'Goku', 'age': 33, 'country': 'Planeta Vegeta'}, {'name': 'Vegueta', 'age': 28, 'country': 'Planeta Vegeta'}, {'name': 'Thor', 'age': 48, 'country': 'Asgard'}]\n"
          ]
        }
      ]
    },
    {
      "cell_type": "markdown",
      "source": [
        "La salida de pprint() es definitivamente más legible. Lo que hace es romper cada elemento del diccionario en el array justo después de las comas mientras que también ordena los valores del diccionario por clave.\n",
        "\n",
        "Si no quiere que sus pares clave-valor estén ordenados por clave, entonces pprint() no es la función que debe utilizar ya que su mecanismo de ordenación está incorporado en la función.\n",
        "\n",
        "Otra cosa a tener en cuenta es que pprint() no imprimirá bien los objetos anidados, incluyendo los diccionarios anidados. Así que si espera que sus valores estén anidados, entonces esta no es la solución para eso también."
      ],
      "metadata": {
        "id": "m0pI02xm-wrV"
      }
    },
    {
      "cell_type": "markdown",
      "source": [
        "# Utilice json.dumps() para imprimir un diccionario en **Python**"
      ],
      "metadata": {
        "id": "nJFI2DDh_dpM"
      }
    },
    {
      "cell_type": "markdown",
      "source": [
        "La comprensión de listas es una forma relativamente más corta y muy elegante de crear listas que se formarán en función de los valores dados de una lista ya existente.\n",
        "\n",
        "Podemos usar la comprensión de listas para devolver una lista que produzca los resultados de la búsqueda de la lista de diccionarios en Python.\n",
        "\n",
        "El siguiente código usa la comprensión de listas para buscar una lista de diccionarios en Python."
      ],
      "metadata": {
        "id": "7sTLeW4k_7Mv"
      }
    },
    {
      "cell_type": "code",
      "source": [
        "import json\n",
        "\n",
        "dct_arr = [\n",
        "        { \"name\": {\"nombre\":\"Mia\",\"apellido\":\"De Yepiz\"}, \"age\": 32,\"country\":\"Libano\" },\n",
        "        { \"name\": {\"nombre\":\"Goku\",\"apellido\":\"Lopez\"}, \"age\": 33,\"country\":\"Planeta Vegeta\" },\n",
        "        { \"name\": {\"nombre\":\"Vegueta\",\"apellido\":\"Garcia\"}, \"age\": 28, \"country\":\"Planeta Vegeta\"},\n",
        "        { \"name\": {\"nombre\":\"Thor\",\"apellido\":\"De Tello\"}, \"age\": 48,\"country\":\"Asgard\" }\n",
        "       ]\n",
        "\n",
        "print(json.dumps(dct_arr, sort_keys=False, indent=2))"
      ],
      "metadata": {
        "colab": {
          "base_uri": "https://localhost:8080/"
        },
        "id": "3kQMurYX_-Ho",
        "outputId": "4a2451ad-a36c-4498-ed6f-74259520b517"
      },
      "execution_count": null,
      "outputs": [
        {
          "output_type": "stream",
          "name": "stdout",
          "text": [
            "[\n",
            "  {\n",
            "    \"name\": {\n",
            "      \"nombre\": \"Mia\",\n",
            "      \"apellido\": \"De Yepiz\"\n",
            "    },\n",
            "    \"age\": 32,\n",
            "    \"country\": \"Libano\"\n",
            "  },\n",
            "  {\n",
            "    \"name\": {\n",
            "      \"nombre\": \"Goku\",\n",
            "      \"apellido\": \"Lopez\"\n",
            "    },\n",
            "    \"age\": 33,\n",
            "    \"country\": \"Planeta Vegeta\"\n",
            "  },\n",
            "  {\n",
            "    \"name\": {\n",
            "      \"nombre\": \"Vegueta\",\n",
            "      \"apellido\": \"Garcia\"\n",
            "    },\n",
            "    \"age\": 28,\n",
            "    \"country\": \"Planeta Vegeta\"\n",
            "  },\n",
            "  {\n",
            "    \"name\": {\n",
            "      \"nombre\": \"Thor\",\n",
            "      \"apellido\": \"De Tello\"\n",
            "    },\n",
            "    \"age\": 48,\n",
            "    \"country\": \"Asgard\"\n",
            "  }\n",
            "]\n"
          ]
        }
      ]
    },
    {
      "cell_type": "markdown",
      "source": [
        "# **Usar yaml.dump() para imprimir un diccionario en Python**"
      ],
      "metadata": {
        "id": "2dGbhRBMBC98"
      }
    },
    {
      "cell_type": "markdown",
      "source": [
        "Otra forma de imprimir un diccionario es utilizando la función dump() del módulo yaml. Sirve el mismo propósito que la función json.dumps() pero en formato YAML en lugar de JSON.\n",
        "\n",
        "Primero, instala el módulo YAML usando pip:\n",
        "\n",
        "pip install pyyaml\n",
        "o si usas Python 3 y pip3:\n",
        "\n",
        "**pip3 install pyyaml**"
      ],
      "metadata": {
        "id": "wx51lWFlBSjp"
      }
    },
    {
      "cell_type": "markdown",
      "source": [
        "Vamos a probarlo con el mismo ejemplo anidado utilizado en el ejemplo JSON.\n",
        "\n",
        "Fíjate en el nuevo parámetro default_flow_style, que determina si el estilo de salida del volcado debe ser inline o block. En este caso, la salida debe ser de estilo bloque ya que queremos que sea legible, así que establece este parámetro a False."
      ],
      "metadata": {
        "id": "3Y_P8wcFBg98"
      }
    },
    {
      "cell_type": "code",
      "source": [
        "import yaml\n",
        "\n",
        "dct_arr = dct_arr = [\n",
        "        { \"name\": \"Mia\", \"age\": 32,\"country\":\"Libano\" },\n",
        "        { \"name\": \"Goku\", \"age\": 33,\"country\":\"Planeta Vegeta\" },\n",
        "        { \"name\": \"Vegueta\", \"age\": 28, \"country\":\"Planeta Vegeta\"},\n",
        "        { \"name\": \"Thor\", \"age\": 48,\"country\":\"Asgard\" }\n",
        "       ]\n",
        "\n",
        "print(yaml.dump(dct_arr, sort_keys=False, default_flow_style=False))"
      ],
      "metadata": {
        "colab": {
          "base_uri": "https://localhost:8080/"
        },
        "id": "upJnZN7V-wQe",
        "outputId": "d33194f4-9bfe-467b-d546-7675e7b51918"
      },
      "execution_count": null,
      "outputs": [
        {
          "output_type": "stream",
          "name": "stdout",
          "text": [
            "- name: Mia\n",
            "  age: 32\n",
            "  country: Libano\n",
            "- name: Goku\n",
            "  age: 33\n",
            "  country: Planeta Vegeta\n",
            "- name: Vegueta\n",
            "  age: 28\n",
            "  country: Planeta Vegeta\n",
            "- name: Thor\n",
            "  age: 48\n",
            "  country: Asgard\n",
            "\n"
          ]
        }
      ]
    },
    {
      "cell_type": "code",
      "source": [
        "import yaml\n",
        "dct_arr = [\n",
        "        { \"name\": {\"nombre\":\"Mia\",\"apellido\":\"De Yepiz\"}, \"age\": 32,\"country\":\"Libano\" },\n",
        "        { \"name\": {\"nombre\":\"Goku\",\"apellido\":\"Lopez\"}, \"age\": 33,\"country\":\"Planeta Vegeta\" },\n",
        "        { \"name\": {\"nombre\":\"Vegueta\",\"apellido\":\"Garcia\"}, \"age\": 28, \"country\":\"Planeta Vegeta\"},\n",
        "        { \"name\": {\"nombre\":\"Thor\",\"apellido\":\"De Tello\"}, \"age\": 48,\"country\":\"Asgard\" }\n",
        "       ]\n",
        "\n",
        "#print(yaml.dump(dct_arr, sort_keys=False, default_flow_style=False))       \n",
        "x=(yaml.dump(dct_arr, sort_keys=False, default_flow_style=False))\n",
        "print (x)"
      ],
      "metadata": {
        "id": "Csoa4c1KFY_Z"
      },
      "execution_count": null,
      "outputs": []
    },
    {
      "cell_type": "markdown",
      "source": [
        "# **usar `pd.dataFrame()`   del modulo pandas**"
      ],
      "metadata": {
        "id": "AhU9zLMja-dY"
      }
    },
    {
      "cell_type": "code",
      "source": [
        "import pandas as pd\n",
        "lstdict =[\n",
        "        { \"name\": \"Mia\", \"age\": 32,\"country\":\"Libano\" },\n",
        "        { \"name\": \"Goku\", \"age\": 33,\"country\":\"Planeta Vegeta\" },\n",
        "        { \"name\": \"Vegueta\", \"age\": 28, \"country\":\"Planeta Vegeta\"},\n",
        "        { \"name\": \"Thor\", \"age\": 48,\"country\":\"Asgard\" }\n",
        "       ]\n",
        "salida=pd.DataFrame(lstdict)\n",
        "salida"
      ],
      "metadata": {
        "colab": {
          "base_uri": "https://localhost:8080/",
          "height": 175
        },
        "id": "gzpSNKcPbO5W",
        "outputId": "221be3d1-206c-4ef5-b26d-2c29ab642890"
      },
      "execution_count": 6,
      "outputs": [
        {
          "output_type": "execute_result",
          "data": {
            "text/plain": [
              "      name  age         country\n",
              "0      Mia   32          Libano\n",
              "1     Goku   33  Planeta Vegeta\n",
              "2  Vegueta   28  Planeta Vegeta\n",
              "3     Thor   48          Asgard"
            ],
            "text/html": [
              "\n",
              "  <div id=\"df-2664c5c0-adca-4226-86fe-d8f1816443c8\">\n",
              "    <div class=\"colab-df-container\">\n",
              "      <div>\n",
              "<style scoped>\n",
              "    .dataframe tbody tr th:only-of-type {\n",
              "        vertical-align: middle;\n",
              "    }\n",
              "\n",
              "    .dataframe tbody tr th {\n",
              "        vertical-align: top;\n",
              "    }\n",
              "\n",
              "    .dataframe thead th {\n",
              "        text-align: right;\n",
              "    }\n",
              "</style>\n",
              "<table border=\"1\" class=\"dataframe\">\n",
              "  <thead>\n",
              "    <tr style=\"text-align: right;\">\n",
              "      <th></th>\n",
              "      <th>name</th>\n",
              "      <th>age</th>\n",
              "      <th>country</th>\n",
              "    </tr>\n",
              "  </thead>\n",
              "  <tbody>\n",
              "    <tr>\n",
              "      <th>0</th>\n",
              "      <td>Mia</td>\n",
              "      <td>32</td>\n",
              "      <td>Libano</td>\n",
              "    </tr>\n",
              "    <tr>\n",
              "      <th>1</th>\n",
              "      <td>Goku</td>\n",
              "      <td>33</td>\n",
              "      <td>Planeta Vegeta</td>\n",
              "    </tr>\n",
              "    <tr>\n",
              "      <th>2</th>\n",
              "      <td>Vegueta</td>\n",
              "      <td>28</td>\n",
              "      <td>Planeta Vegeta</td>\n",
              "    </tr>\n",
              "    <tr>\n",
              "      <th>3</th>\n",
              "      <td>Thor</td>\n",
              "      <td>48</td>\n",
              "      <td>Asgard</td>\n",
              "    </tr>\n",
              "  </tbody>\n",
              "</table>\n",
              "</div>\n",
              "      <button class=\"colab-df-convert\" onclick=\"convertToInteractive('df-2664c5c0-adca-4226-86fe-d8f1816443c8')\"\n",
              "              title=\"Convert this dataframe to an interactive table.\"\n",
              "              style=\"display:none;\">\n",
              "        \n",
              "  <svg xmlns=\"http://www.w3.org/2000/svg\" height=\"24px\"viewBox=\"0 0 24 24\"\n",
              "       width=\"24px\">\n",
              "    <path d=\"M0 0h24v24H0V0z\" fill=\"none\"/>\n",
              "    <path d=\"M18.56 5.44l.94 2.06.94-2.06 2.06-.94-2.06-.94-.94-2.06-.94 2.06-2.06.94zm-11 1L8.5 8.5l.94-2.06 2.06-.94-2.06-.94L8.5 2.5l-.94 2.06-2.06.94zm10 10l.94 2.06.94-2.06 2.06-.94-2.06-.94-.94-2.06-.94 2.06-2.06.94z\"/><path d=\"M17.41 7.96l-1.37-1.37c-.4-.4-.92-.59-1.43-.59-.52 0-1.04.2-1.43.59L10.3 9.45l-7.72 7.72c-.78.78-.78 2.05 0 2.83L4 21.41c.39.39.9.59 1.41.59.51 0 1.02-.2 1.41-.59l7.78-7.78 2.81-2.81c.8-.78.8-2.07 0-2.86zM5.41 20L4 18.59l7.72-7.72 1.47 1.35L5.41 20z\"/>\n",
              "  </svg>\n",
              "      </button>\n",
              "      \n",
              "  <style>\n",
              "    .colab-df-container {\n",
              "      display:flex;\n",
              "      flex-wrap:wrap;\n",
              "      gap: 12px;\n",
              "    }\n",
              "\n",
              "    .colab-df-convert {\n",
              "      background-color: #E8F0FE;\n",
              "      border: none;\n",
              "      border-radius: 50%;\n",
              "      cursor: pointer;\n",
              "      display: none;\n",
              "      fill: #1967D2;\n",
              "      height: 32px;\n",
              "      padding: 0 0 0 0;\n",
              "      width: 32px;\n",
              "    }\n",
              "\n",
              "    .colab-df-convert:hover {\n",
              "      background-color: #E2EBFA;\n",
              "      box-shadow: 0px 1px 2px rgba(60, 64, 67, 0.3), 0px 1px 3px 1px rgba(60, 64, 67, 0.15);\n",
              "      fill: #174EA6;\n",
              "    }\n",
              "\n",
              "    [theme=dark] .colab-df-convert {\n",
              "      background-color: #3B4455;\n",
              "      fill: #D2E3FC;\n",
              "    }\n",
              "\n",
              "    [theme=dark] .colab-df-convert:hover {\n",
              "      background-color: #434B5C;\n",
              "      box-shadow: 0px 1px 3px 1px rgba(0, 0, 0, 0.15);\n",
              "      filter: drop-shadow(0px 1px 2px rgba(0, 0, 0, 0.3));\n",
              "      fill: #FFFFFF;\n",
              "    }\n",
              "  </style>\n",
              "\n",
              "      <script>\n",
              "        const buttonEl =\n",
              "          document.querySelector('#df-2664c5c0-adca-4226-86fe-d8f1816443c8 button.colab-df-convert');\n",
              "        buttonEl.style.display =\n",
              "          google.colab.kernel.accessAllowed ? 'block' : 'none';\n",
              "\n",
              "        async function convertToInteractive(key) {\n",
              "          const element = document.querySelector('#df-2664c5c0-adca-4226-86fe-d8f1816443c8');\n",
              "          const dataTable =\n",
              "            await google.colab.kernel.invokeFunction('convertToInteractive',\n",
              "                                                     [key], {});\n",
              "          if (!dataTable) return;\n",
              "\n",
              "          const docLinkHtml = 'Like what you see? Visit the ' +\n",
              "            '<a target=\"_blank\" href=https://colab.research.google.com/notebooks/data_table.ipynb>data table notebook</a>'\n",
              "            + ' to learn more about interactive tables.';\n",
              "          element.innerHTML = '';\n",
              "          dataTable['output_type'] = 'display_data';\n",
              "          await google.colab.output.renderOutput(dataTable, element);\n",
              "          const docLink = document.createElement('div');\n",
              "          docLink.innerHTML = docLinkHtml;\n",
              "          element.appendChild(docLink);\n",
              "        }\n",
              "      </script>\n",
              "    </div>\n",
              "  </div>\n",
              "  "
            ]
          },
          "metadata": {},
          "execution_count": 6
        }
      ]
    },
    {
      "cell_type": "code",
      "source": [],
      "metadata": {
        "id": "JMuEf-J-djc4"
      },
      "execution_count": null,
      "outputs": []
    },
    {
      "cell_type": "code",
      "source": [
        "import pandas as pd\n",
        "lstdict =[\n",
        "        { \"name\": \"Mia\", \"age\": 32,\"country\":\"Libano\" },\n",
        "        { \"name\": \"Goku\", \"age\": 33,\"country\":\"Planeta Vegeta\" },\n",
        "        { \"name\": \"Vegueta\", \"age\": 28, \"country\":\"Planeta Vegeta\"},\n",
        "        { \"name\": \"Thor\", \"age\": 48,\"country\":\"Asgard\" }\n",
        "       ]\n",
        "salida=pd.DataFrame(lstdict)\n",
        "print(salida)"
      ],
      "metadata": {
        "colab": {
          "base_uri": "https://localhost:8080/"
        },
        "outputId": "33dfea7c-edd9-4684-e04f-4f8c771114f9",
        "id": "ibZjt4XsdkMq"
      },
      "execution_count": 8,
      "outputs": [
        {
          "output_type": "stream",
          "name": "stdout",
          "text": [
            "      name  age         country\n",
            "0      Mia   32          Libano\n",
            "1     Goku   33  Planeta Vegeta\n",
            "2  Vegueta   28  Planeta Vegeta\n",
            "3     Thor   48          Asgard\n"
          ]
        }
      ]
    }
  ]
}