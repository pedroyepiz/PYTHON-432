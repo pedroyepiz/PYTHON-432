{
  "nbformat": 4,
  "nbformat_minor": 0,
  "metadata": {
    "colab": {
      "provenance": [],
      "authorship_tag": "ABX9TyNIbL3nedM+P+/i1S5DKNNt",
      "include_colab_link": true
    },
    "kernelspec": {
      "name": "python3",
      "display_name": "Python 3"
    },
    "language_info": {
      "name": "python"
    }
  },
  "cells": [
    {
      "cell_type": "markdown",
      "metadata": {
        "id": "view-in-github",
        "colab_type": "text"
      },
      "source": [
        "<a href=\"https://colab.research.google.com/github/pedroyepiz/PYTHON-432/blob/main/MODULOS.ipynb\" target=\"_parent\"><img src=\"https://colab.research.google.com/assets/colab-badge.svg\" alt=\"Open In Colab\"/></a>"
      ]
    },
    {
      "cell_type": "markdown",
      "source": [
        "# **Módulos**\n",
        "\n",
        "El código de un programa en Python puede reutilizarse en otro importándolo. Cualquier fichero con código de Python reutilizable se conoce como módulo o librería.\n",
        "\n",
        "Los módulos suelen contener funciones reutilizables, pero también pueden definir variables con datos simples o compuestos (listas, diccionarios, etc), o cualquier otro código válido en Python.\n",
        "\n",
        "Python permite importar un módulo completo o sólo algunas partes de él. Cuando se importa un módulo completo, el intérprete de Python ejecuta todo el código que contiene el módulo, mientras que si solo se importan algunas partes del módulo, solo se ejecutarán esas partes.\n",
        "\n",
        "### **Importación completa de módulos (import)**\n",
        "\n",
        "* **import M** : Ejecuta el código que contiene M y crea una referencia a él, de manera que pueden invocarse un objeto o función f definida en él mediante la sintaxis M.f.\n",
        "\n",
        "\n",
        "* **import M as N** : Ejecuta el código que contiene M y crea una referencia a él con el nombre N, de manera que pueden invocarse un objeto o función f definida en él mediante la sintaxis N.f. Esta forma es similar a la anterior, pero se suele usar cuando el nombre del módulo es muy largo para utilizar un alias más corto.\n",
        "\n",
        "## **Importación parcial de módulos (from import)**\n",
        "\n",
        "* **from M import f, g, ... :** Ejecuta el código que contiene M y crea referencias a los objetos f, g, ..., de manera que pueden ser invocados por su nombre. De esta manera para invocar cualquiera de estos objetos no hace falta precederlos por el nombre del módulo, basta con escribir su nombre.\n",
        "\n",
        "\n",
        "* **from M import** : Ejecuta el código que contiene M y crea referencias a todos los objetos públicos (aquellos que no empiezan por el carácter _) definidos en el módulo, de manera que pueden ser invocados por su nombre.\n",
        "\n",
        "\n",
        "**Cuando se importen módulos de esta manera hay que tener cuidado de que no haya coincidencias en los nombres de funciones, variables u otros objetos.**\n"
      ],
      "metadata": {
        "id": "gFZ6mUOY7rpy"
      }
    },
    {
      "cell_type": "code",
      "source": [
        "import calendar\n",
        "print (calendar.month(2022,6))"
      ],
      "metadata": {
        "colab": {
          "base_uri": "https://localhost:8080/"
        },
        "id": "-_8_zbYG9Mew",
        "outputId": "142a7999-71fb-4915-dcb7-654c55639ffc"
      },
      "execution_count": null,
      "outputs": [
        {
          "output_type": "stream",
          "name": "stdout",
          "text": [
            "     June 2022\n",
            "Mo Tu We Th Fr Sa Su\n",
            "       1  2  3  4  5\n",
            " 6  7  8  9 10 11 12\n",
            "13 14 15 16 17 18 19\n",
            "20 21 22 23 24 25 26\n",
            "27 28 29 30\n",
            "\n"
          ]
        }
      ]
    },
    {
      "cell_type": "code",
      "source": [
        "from math import *\n",
        "cos(pi)"
      ],
      "metadata": {
        "colab": {
          "base_uri": "https://localhost:8080/"
        },
        "id": "aPLHG8If9lpY",
        "outputId": "abc03971-774d-4853-8bc5-8f2622a0aa97"
      },
      "execution_count": null,
      "outputs": [
        {
          "output_type": "execute_result",
          "data": {
            "text/plain": [
              "-1.0"
            ]
          },
          "metadata": {},
          "execution_count": 4
        }
      ]
    },
    {
      "cell_type": "markdown",
      "source": [
        "## **Módulos de la librería estándar más importantes**\n",
        "\n",
        "**Python viene con una biblioteca de módulos predefinidos que no necesitan instalarse. Algunos de los más utilizados son:**\n",
        "\n",
        "\n",
        "* **sys:** Funciones y parámetros específicos del sistema operativo.\n",
        "\n",
        "* **os:** Interfaz con el sistema operativo.\n",
        "\n",
        "* **os.path:** Funciones de acceso a las rutas del sistema.\n",
        "\n",
        "* **io**: Funciones para manejo de flujos de datos y ficheros.\n",
        "\n",
        "* **string:** Funciones con cadenas de caracteres.\n",
        "\n",
        "* **datetime:** Funciones para fechas y tiempos.\n",
        "\n",
        "* **math:** Funciones y constantes matemáticas.\n",
        "\n",
        "* **statistics: Funciones estadísticas.**\n",
        "\n",
        "* **random:** Generación de números pseudo-aleatorios.\n",
        "\n",
        "**Otras librerías imprescindibles**\n",
        "\n",
        "Estas librerías no vienen en la distribución estándar de Python y necesitan instalarse. También puede optarse por la distribución Anaconda que incorpora la mayoría de estas librerías.\n",
        "\n",
        "\n",
        "* **NumPy:** Funciones matemáticas avanzadas y arrays.\n",
        "\n",
        "* **SciPy:** Más funciones matemáticas para aplicaciones científicas.\n",
        "\n",
        "* **matplotlib:** Análisis y representación gráfica de datos.\n",
        "\n",
        "* **Pandas:** Funciones para el manejo y análisis de estructuras de datos.\n",
        "\n",
        "* **Request:** Acceso a internet por http.\n"
      ],
      "metadata": {
        "id": "QrATwITb-AT_"
      }
    },
    {
      "cell_type": "code",
      "source": [
        "import pandas as pd\n"
      ],
      "metadata": {
        "id": "du7eWYlvAdFj"
      },
      "execution_count": null,
      "outputs": []
    },
    {
      "cell_type": "code",
      "execution_count": null,
      "metadata": {
        "id": "-b8gw0567fVR"
      },
      "outputs": [],
      "source": []
    }
  ]
}