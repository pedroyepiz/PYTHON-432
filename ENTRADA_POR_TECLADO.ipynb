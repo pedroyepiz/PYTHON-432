{
  "nbformat": 4,
  "nbformat_minor": 0,
  "metadata": {
    "colab": {
      "provenance": [],
      "authorship_tag": "ABX9TyNcjLQqtK9dCplH+oPq0m9v"
    },
    "kernelspec": {
      "name": "python3",
      "display_name": "Python 3"
    },
    "language_info": {
      "name": "python"
    }
  },
  "cells": [
    {
      "cell_type": "markdown",
      "source": [
        "# ENTRADA POR TECLADO:  La función `input()`  "
      ],
      "metadata": {
        "id": "_FBeCkK1IP4Q"
      }
    },
    {
      "cell_type": "markdown",
      "source": [
        "**La función `input()`**\n",
        "La función input() permite obtener texto escrito por teclado. Al llegar a la función, el programa se detiene esperando que se escriba algo y se pulse la tecla Intro, como muestra el siguiente ejemplo:"
      ],
      "metadata": {
        "id": "VgxqpMFvIjOe"
      }
    },
    {
      "cell_type": "code",
      "execution_count": 1,
      "metadata": {
        "id": "EcR-VslpILCi",
        "colab": {
          "base_uri": "https://localhost:8080/"
        },
        "outputId": "da46ed12-7786-4b2d-a7c4-978dd3d43ba8"
      },
      "outputs": [
        {
          "output_type": "stream",
          "name": "stdout",
          "text": [
            "¿Cómo se llama?\n",
            "pedrito\n",
            "Me alegro de conocerle, pedrito\n"
          ]
        }
      ],
      "source": [
        "print(\"¿Cómo se llama?\")\n",
        "nombre = input()\n",
        "print(f\"Me alegro de conocerle, {nombre}\")"
      ]
    },
    {
      "cell_type": "markdown",
      "source": [
        "En el ejemplo anterior, el usuario escribe su respuesta en una línea distinta a la pregunta porque Python añade un salto de línea al final de cada print().\n",
        "\n",
        "Si se prefiere que el usuario escriba su respuesta a continuación de la pregunta, se podría utilizar el argumento opcional end en la función print(), que indica el carácter o caracteres a utilizar en vez del salto de línea. Para separar la respuesta de la pregunta se ha añadido un espacio al final de la pregunta."
      ],
      "metadata": {
        "id": "5PbiMfC3Iy-P"
      }
    },
    {
      "cell_type": "code",
      "source": [
        "print(\"¿Cómo se llama? \", end=\"\")\n",
        "nombre = input()\n",
        "print(f\"Me alegro de conocerle, {nombre}\")"
      ],
      "metadata": {
        "id": "Q2XYqvpRIyoh",
        "colab": {
          "base_uri": "https://localhost:8080/"
        },
        "outputId": "5c8ee862-9862-4502-943d-3dd8e4a6c03f"
      },
      "execution_count": 2,
      "outputs": [
        {
          "output_type": "stream",
          "name": "stdout",
          "text": [
            "¿Cómo se llama? pedrito\n",
            "Me alegro de conocerle, pedrito\n"
          ]
        }
      ]
    },
    {
      "cell_type": "markdown",
      "source": [
        "**Otra solución, más compacta, es aprovechar que a la función input() se le puede enviar un argumento que se escribe en la pantalla (sin añadir un salto de línea):**"
      ],
      "metadata": {
        "id": "HmGfBYGyJDOE"
      }
    },
    {
      "cell_type": "code",
      "source": [
        "nombre = input(\"¿Cómo se llama? \")\n",
        "print(f\"Me alegro de conocerle, {nombre}\")"
      ],
      "metadata": {
        "id": "o816QaqBIykj",
        "colab": {
          "base_uri": "https://localhost:8080/"
        },
        "outputId": "ba9a8a66-e082-4d3c-9dab-9d962fb23544"
      },
      "execution_count": 3,
      "outputs": [
        {
          "output_type": "stream",
          "name": "stdout",
          "text": [
            "¿Cómo se llama? pedrito\n",
            "Me alegro de conocerle, pedrito\n"
          ]
        }
      ]
    },
    {
      "cell_type": "markdown",
      "source": [
        "**De forma predeterminada, la función input() convierte la entrada en una cadena, aunque escribamos un número. Si intentamos hacer operaciones, se producirá un error.**"
      ],
      "metadata": {
        "id": "4HaOGGOhJN7o"
      }
    },
    {
      "cell_type": "code",
      "source": [
        "cantidad = input(\"cantidad en pesos: \")\n",
        "print(f\"{cantidad} pesos son {round(cantidad / 20.50, 2)} dolares\")"
      ],
      "metadata": {
        "id": "o_fVXd1CIydR",
        "colab": {
          "base_uri": "https://localhost:8080/",
          "height": 200
        },
        "outputId": "a02a0ee9-230e-4af6-966a-6c3f5536a3a3"
      },
      "execution_count": 4,
      "outputs": [
        {
          "name": "stdout",
          "output_type": "stream",
          "text": [
            "cantidad en pesos: 120\n"
          ]
        },
        {
          "output_type": "error",
          "ename": "TypeError",
          "evalue": "ignored",
          "traceback": [
            "\u001b[0;31m---------------------------------------------------------------------------\u001b[0m",
            "\u001b[0;31mTypeError\u001b[0m                                 Traceback (most recent call last)",
            "\u001b[0;32m<ipython-input-4-7142663c561e>\u001b[0m in \u001b[0;36m<module>\u001b[0;34m\u001b[0m\n\u001b[1;32m      1\u001b[0m \u001b[0mcantidad\u001b[0m \u001b[0;34m=\u001b[0m \u001b[0minput\u001b[0m\u001b[0;34m(\u001b[0m\u001b[0;34m\"cantidad en pesos: \"\u001b[0m\u001b[0;34m)\u001b[0m\u001b[0;34m\u001b[0m\u001b[0;34m\u001b[0m\u001b[0m\n\u001b[0;32m----> 2\u001b[0;31m \u001b[0mprint\u001b[0m\u001b[0;34m(\u001b[0m\u001b[0;34mf\"{cantidad} pesos son {round(cantidad / 20.50, 2)} dolares\"\u001b[0m\u001b[0;34m)\u001b[0m\u001b[0;34m\u001b[0m\u001b[0;34m\u001b[0m\u001b[0m\n\u001b[0m",
            "\u001b[0;31mTypeError\u001b[0m: unsupported operand type(s) for /: 'str' and 'float'"
          ]
        }
      ]
    },
    {
      "cell_type": "code",
      "source": [
        "cantidad = int(input(\"cantidad en pesos: \"))\n",
        "print(f\"{cantidad} pesos son {round(cantidad / 20.50, 2)} dolares\")"
      ],
      "metadata": {
        "id": "hI7xXgWIIyTS",
        "colab": {
          "base_uri": "https://localhost:8080/"
        },
        "outputId": "244ad512-4c23-44e3-b6c5-bc0e737be3db"
      },
      "execution_count": 5,
      "outputs": [
        {
          "output_type": "stream",
          "name": "stdout",
          "text": [
            "cantidad en pesos: 120\n",
            "120 pesos son 5.85 dolares\n"
          ]
        }
      ]
    },
    {
      "cell_type": "markdown",
      "source": [
        "\n",
        "**TIPOS DE DATOS** \n",
        "* int\n",
        "* float\n",
        "* bool\n",
        "* string"
      ],
      "metadata": {
        "id": "PQvxF6nCb7I1"
      }
    },
    {
      "cell_type": "code",
      "source": [
        "edad = int(input(\"Dígame su edad: \"))\n",
        "print(f\"Su edad son {edad} años\")"
      ],
      "metadata": {
        "id": "TDcZoBboKsZu",
        "colab": {
          "base_uri": "https://localhost:8080/"
        },
        "outputId": "79b3048f-a0b2-4261-ae1b-c749d3dd9d7a"
      },
      "execution_count": 6,
      "outputs": [
        {
          "output_type": "stream",
          "name": "stdout",
          "text": [
            "Dígame su edad: 34\n",
            "Su edad son 34 años\n"
          ]
        }
      ]
    },
    {
      "cell_type": "code",
      "source": [
        "peso = float(input(\"Dígame su peso en kg: \"))\n",
        "print(f\"Su peso es {peso} kg\")"
      ],
      "metadata": {
        "id": "iwBOh-dAK9hr",
        "colab": {
          "base_uri": "https://localhost:8080/"
        },
        "outputId": "7145f6a2-2b1f-48f6-a8a2-027e9ad56e88"
      },
      "execution_count": 7,
      "outputs": [
        {
          "output_type": "stream",
          "name": "stdout",
          "text": [
            "Dígame su peso en kg: 89\n",
            "Su peso es 89.0 kg\n"
          ]
        }
      ]
    },
    {
      "cell_type": "markdown",
      "source": [
        "# **Variables como argumento de la función `input()`**"
      ],
      "metadata": {
        "id": "7tDgm1PmLPf9"
      }
    },
    {
      "cell_type": "code",
      "source": [
        "nombre = input(\"Dígame su nombre: \")\n",
        "apellido = input(f\"Dígame su apellido, {nombre}: \")\n",
        "print(f\"Me alegro de conocerle, {nombre} {apellido}.\")"
      ],
      "metadata": {
        "id": "UjjfOUyBK9Ya",
        "colab": {
          "base_uri": "https://localhost:8080/"
        },
        "outputId": "0dd54de4-4d64-4693-857d-1c435764f8d2"
      },
      "execution_count": 8,
      "outputs": [
        {
          "output_type": "stream",
          "name": "stdout",
          "text": [
            "Dígame su nombre: pedrito\n",
            "Dígame su apellido, pedrito: yepiz\n",
            "Me alegro de conocerle, pedrito yepiz.\n"
          ]
        }
      ]
    },
    {
      "cell_type": "code",
      "source": [
        "numero1 = int(input(\"Dígame un número: \"))\n",
        "numero2 = int(input(f\"Dígame un número mayor que {numero1}: \"))\n",
        "print(f\"La diferencia entre ellos es {numero2 - numero1}.\")"
      ],
      "metadata": {
        "id": "vGx5FXYLLWjO",
        "colab": {
          "base_uri": "https://localhost:8080/"
        },
        "outputId": "c3fffc16-a98a-43f0-b9cb-d056369d6741"
      },
      "execution_count": 9,
      "outputs": [
        {
          "output_type": "stream",
          "name": "stdout",
          "text": [
            "Dígame un número: 10\n",
            "Dígame un número mayor que 10: 23\n",
            "La diferencia entre ellos es 13.\n"
          ]
        }
      ]
    },
    {
      "cell_type": "markdown",
      "source": [
        "\n",
        "\n",
        "\n",
        "\n",
        "# **Variables y funciones**\n",
        "\n",
        "nombreVariable usa **Camel Case**.\n",
        "\n",
        "nombre_variable usa **Snake Case**\n",
        "\n",
        "NombreVariable usa **Pascal Case**\n",
        "\n",
        "Según la guía de estilo de Python, los nombres de variables (y de funciones) deben escribirse en minúscula, con las palabras separadas por un guión bajo (underscore) para mejorar la legibilidad. Es decir, **la recomendación es usar Snake Case.**\n",
        "\n",
        "Camel Case se puede utilizar solo para mantener el estilo que se ha utilizado.\n",
        "\n",
        "Por tanto, nombreVariable es correcto solo para mantener el estilo utilizado. nombre_variable es la opción recomendada. Se debe evitar escribir NombreVariable."
      ],
      "metadata": {
        "id": "j3oFpxO3Kjxn"
      }
    }
  ]
}