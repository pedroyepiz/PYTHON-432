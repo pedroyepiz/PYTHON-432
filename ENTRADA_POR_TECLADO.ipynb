{
  "nbformat": 4,
  "nbformat_minor": 0,
  "metadata": {
    "colab": {
      "provenance": [],
      "authorship_tag": "ABX9TyNcjLQqtK9dCplH+oPq0m9v"
    },
    "kernelspec": {
      "name": "python3",
      "display_name": "Python 3"
    },
    "language_info": {
      "name": "python"
    }
  },
  "cells": [
    {
      "cell_type": "markdown",
      "source": [
        "# ENTRADA POR TECLADO:  La función `input()`  "
      ],
      "metadata": {
        "id": "_FBeCkK1IP4Q"
      }
    },
    {
      "cell_type": "markdown",
      "source": [
        "**La función `input()`**\n",
        "La función input() permite obtener texto escrito por teclado. Al llegar a la función, el programa se detiene esperando que se escriba algo y se pulse la tecla Intro, como muestra el siguiente ejemplo:"
      ],
      "metadata": {
        "id": "VgxqpMFvIjOe"
      }
    },
    {
      "cell_type": "code",
      "execution_count": null,
      "metadata": {
        "id": "EcR-VslpILCi"
      },
      "outputs": [],
      "source": [
        "print(\"¿Cómo se llama?\")\n",
        "nombre = input()\n",
        "print(f\"Me alegro de conocerle, {nombre}\")"
      ]
    },
    {
      "cell_type": "markdown",
      "source": [
        "En el ejemplo anterior, el usuario escribe su respuesta en una línea distinta a la pregunta porque Python añade un salto de línea al final de cada print().\n",
        "\n",
        "Si se prefiere que el usuario escriba su respuesta a continuación de la pregunta, se podría utilizar el argumento opcional end en la función print(), que indica el carácter o caracteres a utilizar en vez del salto de línea. Para separar la respuesta de la pregunta se ha añadido un espacio al final de la pregunta."
      ],
      "metadata": {
        "id": "5PbiMfC3Iy-P"
      }
    },
    {
      "cell_type": "code",
      "source": [
        "print(\"¿Cómo se llama? \", end=\"\")\n",
        "nombre = input()\n",
        "print(f\"Me alegro de conocerle, {nombre}\")"
      ],
      "metadata": {
        "id": "Q2XYqvpRIyoh"
      },
      "execution_count": null,
      "outputs": []
    },
    {
      "cell_type": "markdown",
      "source": [
        "**Otra solución, más compacta, es aprovechar que a la función input() se le puede enviar un argumento que se escribe en la pantalla (sin añadir un salto de línea):**"
      ],
      "metadata": {
        "id": "HmGfBYGyJDOE"
      }
    },
    {
      "cell_type": "code",
      "source": [
        "nombre = input(\"¿Cómo se llama? \")\n",
        "print(f\"Me alegro de conocerle, {nombre}\")"
      ],
      "metadata": {
        "id": "o816QaqBIykj"
      },
      "execution_count": null,
      "outputs": []
    },
    {
      "cell_type": "markdown",
      "source": [
        "**De forma predeterminada, la función input() convierte la entrada en una cadena, aunque escribamos un número. Si intentamos hacer operaciones, se producirá un error.**"
      ],
      "metadata": {
        "id": "4HaOGGOhJN7o"
      }
    },
    {
      "cell_type": "code",
      "source": [
        "cantidad = input(\"cantidad en pesos: \")\n",
        "print(f\"{cantidad} pesos son {round(cantidad / 20.50, 2)} dolares\")"
      ],
      "metadata": {
        "id": "o_fVXd1CIydR"
      },
      "execution_count": null,
      "outputs": []
    },
    {
      "cell_type": "code",
      "source": [
        "cantidad = int(input(\"cantidad en pesos: \"))\n",
        "print(f\"{cantidad} pesos son {round(cantidad / 20.50, 2)} dolares\")"
      ],
      "metadata": {
        "id": "hI7xXgWIIyTS"
      },
      "execution_count": null,
      "outputs": []
    },
    {
      "cell_type": "markdown",
      "source": [
        "\n",
        "**TIPOS DE DATOS** \n",
        "* int\n",
        "* float\n",
        "* bool\n",
        "* string"
      ],
      "metadata": {
        "id": "PQvxF6nCb7I1"
      }
    },
    {
      "cell_type": "code",
      "source": [
        "edad = int(input(\"Dígame su edad: \"))\n",
        "print(f\"Su edad son {edad} años\")"
      ],
      "metadata": {
        "id": "TDcZoBboKsZu"
      },
      "execution_count": null,
      "outputs": []
    },
    {
      "cell_type": "code",
      "source": [
        "peso = float(input(\"Dígame su peso en kg: \"))\n",
        "print(f\"Su peso es {peso} kg\")"
      ],
      "metadata": {
        "id": "iwBOh-dAK9hr"
      },
      "execution_count": null,
      "outputs": []
    },
    {
      "cell_type": "markdown",
      "source": [
        "# **Variables como argumento de la función `input()`**"
      ],
      "metadata": {
        "id": "7tDgm1PmLPf9"
      }
    },
    {
      "cell_type": "code",
      "source": [
        "nombre = input(\"Dígame su nombre: \")\n",
        "apellido = input(f\"Dígame su apellido, {nombre}: \")\n",
        "print(f\"Me alegro de conocerle, {nombre} {apellido}.\")"
      ],
      "metadata": {
        "id": "UjjfOUyBK9Ya"
      },
      "execution_count": null,
      "outputs": []
    },
    {
      "cell_type": "code",
      "source": [
        "numero1 = int(input(\"Dígame un número: \"))\n",
        "numero2 = int(input(f\"Dígame un número mayor que {numero1}: \"))\n",
        "print(f\"La diferencia entre ellos es {numero2 - numero1}.\")"
      ],
      "metadata": {
        "id": "vGx5FXYLLWjO"
      },
      "execution_count": null,
      "outputs": []
    },
    {
      "cell_type": "markdown",
      "source": [
        "\n",
        "\n",
        "\n",
        "\n",
        "# **Variables y funciones**\n",
        "\n",
        "nombreVariable usa **Camel Case**.\n",
        "\n",
        "nombre_variable usa **Snake Case**\n",
        "\n",
        "NombreVariable usa **Pascal Case**\n",
        "\n",
        "Según la guía de estilo de Python, los nombres de variables (y de funciones) deben escribirse en minúscula, con las palabras separadas por un guión bajo (underscore) para mejorar la legibilidad. Es decir, **la recomendación es usar Snake Case.**\n",
        "\n",
        "Camel Case se puede utilizar solo para mantener el estilo que se ha utilizado.\n",
        "\n",
        "Por tanto, nombreVariable es correcto solo para mantener el estilo utilizado. nombre_variable es la opción recomendada. Se debe evitar escribir NombreVariable."
      ],
      "metadata": {
        "id": "j3oFpxO3Kjxn"
      }
    }
  ]
}