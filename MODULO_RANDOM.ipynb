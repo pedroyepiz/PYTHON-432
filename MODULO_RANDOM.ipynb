{
  "nbformat": 4,
  "nbformat_minor": 0,
  "metadata": {
    "colab": {
      "provenance": [],
      "authorship_tag": "ABX9TyPe0pTaJV1A7hIhoDS1GvM4",
      "include_colab_link": true
    },
    "kernelspec": {
      "name": "python3",
      "display_name": "Python 3"
    },
    "language_info": {
      "name": "python"
    }
  },
  "cells": [
    {
      "cell_type": "markdown",
      "metadata": {
        "id": "view-in-github",
        "colab_type": "text"
      },
      "source": [
        "<a href=\"https://colab.research.google.com/github/pedroyepiz/PYTHON-432/blob/main/MODULO_RANDOM.ipynb\" target=\"_parent\"><img src=\"https://colab.research.google.com/assets/colab-badge.svg\" alt=\"Open In Colab\"/></a>"
      ]
    },
    {
      "cell_type": "markdown",
      "source": [
        "# **El módulo random**"
      ],
      "metadata": {
        "id": "qnvl8ynLt3Fk"
      }
    },
    {
      "cell_type": "markdown",
      "source": [
        "El módulo random de la librería estándar de Python incluye un conjunto de funciones que permiten obtener de distintos modos números aleatorios o, para ser rigurosos, pseudoaleatorios.\n",
        "\n",
        "\n",
        "**¿Por qué números pseudoaleatorios y no aleatorios?**\n",
        "\n",
        "\n",
        "Las funciones a las que hacemos referencia, cada vez que son invocadas, devuelven un valor de una secuencia de números predeterminada. Esta secuencia tiene un periodo bastante largo, es decir, es necesario obtener muchos números antes de que se vuelva a reproducir la misma secuencia. De ahí, el tratamiento de pseudo (o falso), aunque la utilidad que nos ofrezca sea equivalente al de los números aleatorios.\n",
        "\n",
        "\n",
        "Los generadores de números aleatorios verdaderos se basan en procesos naturales que evolucionan de manera impredecible. En ellos, aunque se pueda tener una idea global de lo que puede suceder, tener la certeza absoluta de lo que ocurrirá en cada momento es imposible y por ello las secuencias de valores que generan tienen una bajísima probabilidad de repetirse.\n",
        "\n",
        "\n",
        "Las aplicaciones que tienen los números aleatorios o pseudoaleatorios son muchas: juegos de azar, animaciones de videojuegos, simulaciones, análisis de datos, pruebas de algoritmos, etc."
      ],
      "metadata": {
        "id": "hVVWZOrbt49r"
      }
    },
    {
      "cell_type": "markdown",
      "source": [
        "_____"
      ],
      "metadata": {
        "id": "NiJEzuR5ugVJ"
      }
    },
    {
      "cell_type": "markdown",
      "source": [
        "# **randint()**\n",
        "\n",
        "\n",
        "La función randint() devuelve un número entero incluido entre los valores indicados. Los valores de los límites inferior y superior también pueden aparecer entre los valores devueltos.\n",
        "\n",
        "\n",
        "**En el siguiente ejemplo se realizan cinco \"rifas\" y se obtiene, para cada uno de ellos, un regalo de diez posibles.**"
      ],
      "metadata": {
        "id": "EgRVmEBKuWB9"
      }
    },
    {
      "cell_type": "code",
      "source": [
        "import random\n",
        "\n",
        "regalos = [\"PLUMA\",\"LAPIZ\",\"BORRADOR\",\"CELULAR\",\"TABLET\",\n",
        "           \"LAPTOP\",\"PANTALLA\",\"JUEGO PLUMAS\",\"LIBROS\",\"TABLET + LAPTOP\"]\n",
        "           \n",
        "for rifa in range(5):\n",
        "    regalo = regalos[random.randint(0, 9)]\n",
        "    print(f\"RIFA: {rifa + 1} : {regalo}\")"
      ],
      "metadata": {
        "id": "bgrWErpyufHp",
        "colab": {
          "base_uri": "https://localhost:8080/"
        },
        "outputId": "68c97b98-4ae6-4323-fa3c-435fe5abb99e"
      },
      "execution_count": 3,
      "outputs": [
        {
          "output_type": "stream",
          "name": "stdout",
          "text": [
            "RIFA: 1 : CELULAR\n",
            "RIFA: 2 : LAPTOP\n",
            "RIFA: 3 : CELULAR\n",
            "RIFA: 4 : PANTALLA\n",
            "RIFA: 5 : TABLET + LAPTOP\n"
          ]
        }
      ]
    },
    {
      "cell_type": "code",
      "source": [],
      "metadata": {
        "id": "piw0SMYBzh4l"
      },
      "execution_count": null,
      "outputs": []
    },
    {
      "cell_type": "markdown",
      "source": [
        "# **randrange()**\n",
        "\n",
        "La función randrange() devuelve enteros que van desde un valor inicial a otro final separados entre sí un número de valores determinados. Esta separación (o paso) se utiliza en primer lugar con el valor inicial para calcular el siguiente valor y los sucesivos hasta llegar al valor final o al más cercano posible.\n",
        "\n",
        "En el ejemplo que sigue se obtienen 25 números que van desde el 3 al 16. Como el paso es 3 nunca se obtendría el valor 16.\n",
        "\n",
        "\n",
        "\n",
        "A continuación, se utiliza la forma abreviada para obtener números que van desde el 0 a cualquier número (en este caso el 4) con el paso 1.\n",
        "\n",
        "\n",
        "\n"
      ],
      "metadata": {
        "id": "juo04_wszoFp"
      }
    },
    {
      "cell_type": "code",
      "source": [
        "print(\"\\nVALORES POSIBLES: 3, 6, 9, 12, 15\\n\")\n",
        "for i in range(25):\n",
        "    print(random.randrange(3, 16, 3), end=\", \")"
      ],
      "metadata": {
        "id": "VupeS2Ycz6fW",
        "colab": {
          "base_uri": "https://localhost:8080/"
        },
        "outputId": "5830a63f-046d-4a8b-fd70-1758a0afea45"
      },
      "execution_count": 4,
      "outputs": [
        {
          "output_type": "stream",
          "name": "stdout",
          "text": [
            "\n",
            "VALORES POSIBLES: 3, 6, 9, 12, 15\n",
            "\n",
            "15, 6, 12, 15, 15, 15, 15, 9, 12, 6, 15, 15, 15, 15, 3, 6, 9, 3, 3, 15, 12, 12, 12, 12, 9, "
          ]
        }
      ]
    },
    {
      "cell_type": "code",
      "source": [
        "print(\"\\nVALORES POSIBLESs: 0, 1, 2, 3\\n\")\n",
        "for i in range(25):\n",
        "    print(random.randrange(4), end=\", \")"
      ],
      "metadata": {
        "id": "4QEuSoZf0OUW"
      },
      "execution_count": null,
      "outputs": []
    },
    {
      "cell_type": "markdown",
      "source": [
        "# **random()**\n",
        "\n",
        "La función random() devuelve un número float entre 0 y 1\n",
        "\n",
        "En el ejemplo se obtienen tres números con muchos decimales entre 0 y 1.\n",
        "\n",
        "\n",
        "\n"
      ],
      "metadata": {
        "id": "dHB6VogNz7DB"
      }
    },
    {
      "cell_type": "code",
      "source": [
        "for numero in range(3):\n",
        "    print(random.random(), end=\",  \")"
      ],
      "metadata": {
        "colab": {
          "base_uri": "https://localhost:8080/"
        },
        "id": "_ockuuhQ0Dcn",
        "outputId": "98c1c0f9-2641-4b93-97f0-be3ae3ce42d7"
      },
      "execution_count": null,
      "outputs": [
        {
          "output_type": "stream",
          "name": "stdout",
          "text": [
            "0.645820331891029,  0.8296353400677835,  0.050675262268866095,  "
          ]
        }
      ]
    },
    {
      "cell_type": "markdown",
      "source": [
        "# **uniform()**\n",
        "\n",
        "La función uniform() devuelve un número float incluido entre los valores indicados.\n",
        "\n"
      ],
      "metadata": {
        "id": "WgmKoYxO0D9w"
      }
    },
    {
      "cell_type": "code",
      "source": [
        "for numero in range(3):\n",
        "    print(random.uniform(100, 105), end=\", \")"
      ],
      "metadata": {
        "colab": {
          "base_uri": "https://localhost:8080/"
        },
        "id": "vRbbjV0_0FSt",
        "outputId": "86038955-f5f0-42ab-9d4c-1840affd6de9"
      },
      "execution_count": null,
      "outputs": [
        {
          "output_type": "stream",
          "name": "stdout",
          "text": [
            "101.78771048668678, 101.84035117493853, 104.2538845095063, "
          ]
        }
      ]
    },
    {
      "cell_type": "markdown",
      "source": [
        "# **choice()**\n",
        "\n",
        "La función choice() se utiliza para seleccionar elementos al azar de una lista.\n",
        "\n",
        "En el siguiente ejemplo se obtiene un elemento de los cinco existentes en una lista.\n",
        "\n",
        "\n",
        "\n"
      ],
      "metadata": {
        "id": "7OsPDpVsvv37"
      }
    },
    {
      "cell_type": "code",
      "source": [
        "transporte = [\"BICI\",\"MOTO\",\"CARRO\",\"MICRO\",\"UBER\"]\n",
        "print(\"HOY VIAJARE EN : \", random.choice(transporte))"
      ],
      "metadata": {
        "colab": {
          "base_uri": "https://localhost:8080/"
        },
        "id": "Se55HDsJwQer",
        "outputId": "8d9536eb-62d4-4fc0-f0ec-a891e20caec3"
      },
      "execution_count": null,
      "outputs": [
        {
          "output_type": "stream",
          "name": "stdout",
          "text": [
            "HOY VIAJARE EN :  CARRO\n"
          ]
        }
      ]
    },
    {
      "cell_type": "markdown",
      "source": [
        "# **suffle()**\n",
        "\n",
        "La función shuffle() 'mezcla' o cambia aleatoriamente el orden de los elementos de una lista antes de realizar la selección de alguno de ellos. Esta mezcla recuerda en el caso de los juegos de cartas la acción de barajar un número de veces antes de repartir o seleccionar cartas.\n",
        "\n",
        "El el siguiente ejemplo se realizan dos 'mezclas' antes de que se obtenga el elemento.\n",
        "\n",
        "\n",
        "\n"
      ],
      "metadata": {
        "id": "LM00WF_dwQ-2"
      }
    },
    {
      "cell_type": "code",
      "source": [
        "lista = [\"ROJO\",\"VERDE\",\"AMARILLO\"]\n",
        "\n",
        "random.shuffle(lista)\n",
        "print(\"mezcla1\", lista)\n",
        "\n",
        "random.shuffle(lista)\n",
        "print(\"mezcla2\", lista)\n",
        "print(lista[random.randint(0,2)])"
      ],
      "metadata": {
        "colab": {
          "base_uri": "https://localhost:8080/"
        },
        "id": "a9omtu2Twfim",
        "outputId": "e8faf9f3-da18-4189-834b-cbb5a6639a60"
      },
      "execution_count": null,
      "outputs": [
        {
          "output_type": "stream",
          "name": "stdout",
          "text": [
            "mezcla1 ['AMARILLO', 'VERDE', 'ROJO']\n",
            "mezcla2 ['VERDE', 'ROJO', 'AMARILLO']\n",
            "VERDE\n"
          ]
        }
      ]
    },
    {
      "cell_type": "markdown",
      "source": [
        "# **sample()**\n",
        "\n",
        "La función sample() devuelve de una lista de elementos un determinado número de elementos diferentes elegidos al azar.\n",
        "\n",
        "En el ejemplo que sigue sample() devuelve dos elementos de una lista que contiene seis.\n",
        "\n",
        "\n",
        "\n"
      ],
      "metadata": {
        "id": "2cdZCL96wf7I"
      }
    },
    {
      "cell_type": "code",
      "source": [
        "lista = [\"X\",\"Y\",\"Z\",\"i\",\"j\",\"k\"]\n",
        "print(random.sample(lista, 2))"
      ],
      "metadata": {
        "colab": {
          "base_uri": "https://localhost:8080/"
        },
        "id": "YB6owwgVwtfN",
        "outputId": "74711eb3-9883-4fac-f5f6-dd69c74829e2"
      },
      "execution_count": null,
      "outputs": [
        {
          "output_type": "stream",
          "name": "stdout",
          "text": [
            "['Y', 'Z']\n"
          ]
        }
      ]
    },
    {
      "cell_type": "markdown",
      "source": [
        "# **getrandbits()**\n",
        "\n",
        "De una longitud de bits determinada la función getrandbits() devuelve números enteros decimales que se puedan representar con los mismos.\n",
        "\n",
        "Con 1 bit se pueden representar 2 números (0,1); con 2 bits, cuatro (0,1,2,3); con 3 bits, ocho (0,1,2,3,4,5,6,7) y con n-bits, 2 elevado a n.\n",
        "\n",
        "A continuación se generan 10 números decimales que se pueden representar con 3 bits.\n",
        "\n"
      ],
      "metadata": {
        "id": "9_8D2qqywt56"
      }
    },
    {
      "cell_type": "code",
      "source": [
        "for num in range(10):\n",
        "    print(random.getrandbits(3), end=' ')"
      ],
      "metadata": {
        "colab": {
          "base_uri": "https://localhost:8080/"
        },
        "id": "KocUwF1DxL8A",
        "outputId": "61d32d61-977d-4fd1-d22c-34910179cdba"
      },
      "execution_count": null,
      "outputs": [
        {
          "output_type": "stream",
          "name": "stdout",
          "text": [
            "6 3 6 0 1 6 2 7 0 1 "
          ]
        }
      ]
    },
    {
      "cell_type": "markdown",
      "source": [],
      "metadata": {
        "id": "ySBdQ3prw2Ro"
      }
    }
  ]
}