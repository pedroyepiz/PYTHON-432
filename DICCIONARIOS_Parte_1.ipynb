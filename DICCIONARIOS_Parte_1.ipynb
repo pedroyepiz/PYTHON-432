{
  "nbformat": 4,
  "nbformat_minor": 0,
  "metadata": {
    "colab": {
      "provenance": [],
      "authorship_tag": "ABX9TyMlmV4Owle6v1rT8aFLjVPU",
      "include_colab_link": true
    },
    "kernelspec": {
      "name": "python3",
      "display_name": "Python 3"
    },
    "language_info": {
      "name": "python"
    }
  },
  "cells": [
    {
      "cell_type": "markdown",
      "metadata": {
        "id": "view-in-github",
        "colab_type": "text"
      },
      "source": [
        "<a href=\"https://colab.research.google.com/github/pedroyepiz/PYTHON-432/blob/main/DICCIONARIOS_Parte_1.ipynb\" target=\"_parent\"><img src=\"https://colab.research.google.com/assets/colab-badge.svg\" alt=\"Open In Colab\"/></a>"
      ]
    },
    {
      "cell_type": "markdown",
      "source": [
        "# **DICCIONARIO**\n",
        "Un diccionario es una colección de pares formados por una **clave** y un** valor** asociado a la clave.\n",
        "\n",
        "\n",
        "Se construyen poniendo los pares entre llaves { } separados por comas, y separando la clave del valor con dos puntos :.\n",
        "\n",
        "\n",
        "**Se caracterizan por:**\n",
        "\n",
        "\n",
        "* No tienen orden.\n",
        "* Pueden contener elementos de distintos tipos.\n",
        "* Son mutables, es decir, pueden alterarse durante la ejecución de un programa.\n",
        "\n",
        "Las claves son únicas, es decir, no pueden repetirse en un mismo diccionario, y pueden ser de cualquier tipo de datos inmutable."
      ],
      "metadata": {
        "id": "oVTwLu_Rmtss"
      }
    },
    {
      "cell_type": "markdown",
      "source": [
        "#####**DICCIONARIO VACIO**"
      ],
      "metadata": {
        "id": "AB9rHFl-p5rf"
      }
    },
    {
      "cell_type": "code",
      "execution_count": 2,
      "metadata": {
        "colab": {
          "base_uri": "https://localhost:8080/"
        },
        "id": "GO4x4H3Fmsx4",
        "outputId": "5f75dee0-2d1b-46aa-b892-9314331e50eb"
      },
      "outputs": [
        {
          "output_type": "stream",
          "name": "stdout",
          "text": [
            "<class 'dict'>\n",
            "{}\n"
          ]
        }
      ],
      "source": [
        "\n",
        "print (type({}))\n",
        "\n",
        "diccionario=dict()\n",
        "print (diccionario)"
      ]
    },
    {
      "cell_type": "markdown",
      "source": [
        "###Diccionario con elementos de distintos tipos"
      ],
      "metadata": {
        "id": "y80_cugBpiL3"
      }
    },
    {
      "cell_type": "code",
      "source": [
        "diccionario={\"nombre\":\"PEDRO GOKU\", \"edad\": 19, \"sexo\":\"HOMBRE\",\"ciudad\":\"ENSENADA\"}\n",
        "print (diccionario)"
      ],
      "metadata": {
        "colab": {
          "base_uri": "https://localhost:8080/"
        },
        "id": "XEA4uSWBpX_3",
        "outputId": "ad7168c1-6268-4e6c-e4cb-c710718a66f9"
      },
      "execution_count": 3,
      "outputs": [
        {
          "output_type": "stream",
          "name": "stdout",
          "text": [
            "{'nombre': 'PEDRO GOKU', 'EDAD': 19, 'SEXO': 'HOMBRE', 'CIUDAD': 'ENSENADA'}\n"
          ]
        }
      ]
    },
    {
      "cell_type": "markdown",
      "source": [
        "###Diccionarios anidados"
      ],
      "metadata": {
        "id": "k9U6OpmuqPQQ"
      }
    },
    {
      "cell_type": "code",
      "source": [
        "\n",
        "d={\"nom_compl\":{\"nombre\":\"PEDRO GOKU\",\"apPat\":\"NUÑEZ\",\"apMat\":\"MORALES\"}}\n",
        "print (d)"
      ],
      "metadata": {
        "colab": {
          "base_uri": "https://localhost:8080/"
        },
        "id": "7TskvG4IpXys",
        "outputId": "5aacd6bf-928b-4a78-eab4-0d825f81648b"
      },
      "execution_count": 4,
      "outputs": [
        {
          "output_type": "stream",
          "name": "stdout",
          "text": [
            "{'nom_compl': {'nombre': 'PEDRO GOKU', 'apPat': 'NUÑEZ', 'apMat': 'MORALES'}}\n"
          ]
        }
      ]
    },
    {
      "cell_type": "markdown",
      "source": [
        "##**Acceso a los elementos de un diccionario**\n",
        "\n",
        "* **d[clave]**  devuelve el valor del diccionario **d** asociado a la clave clave. Si en el diccionario no existe esa clave devuelve un error.\n",
        "\n",
        "* **d.get(clave, valor)** devuelve el valor del diccionario **d** asociado a la clave **clave**. Si en el diccionario no existe esa clave devuelve **valor**, y si no se especifica un **valor** por defecto devuelve None."
      ],
      "metadata": {
        "id": "XsYKcHomrdG9"
      }
    },
    {
      "cell_type": "code",
      "source": [
        "diccionario={\"nombre\":\"PEDRO GOKU\", \"edad\": 19, \"sexo\":\"HOMBRE\",\"ciudad\":\"ENSENADA\"}\n",
        "print (diccionario)\n",
        "\n",
        "print (diccionario[\"nombre\"])\n",
        "print (diccionario[\"edad\"])\n",
        "print (diccionario.get(\"sexo\"))\n",
        "print (diccionario.get(\"ciudad\"))\n"
      ],
      "metadata": {
        "colab": {
          "base_uri": "https://localhost:8080/"
        },
        "id": "K8bElMbOsRxC",
        "outputId": "217a079b-1e72-41cb-c0a6-f92736ebec8c"
      },
      "execution_count": 12,
      "outputs": [
        {
          "output_type": "stream",
          "name": "stdout",
          "text": [
            "{'nombre': 'PEDRO GOKU', 'edad': 19, 'sexo': 'HOMBRE', 'ciudad': 'ENSENADA'}\n",
            "PEDRO GOKU\n",
            "19\n",
            "HOMBRE\n",
            "ENSENADA\n"
          ]
        }
      ]
    },
    {
      "cell_type": "markdown",
      "source": [
        "___"
      ],
      "metadata": {
        "id": "gnB6EOpUuiLb"
      }
    },
    {
      "cell_type": "markdown",
      "source": [
        "## **Operaciones que no modifican un diccionario**\n",
        "\n",
        "* **len(d)** : Devuelve el número de elementos del diccionario d.\n",
        "\n",
        "* **min(d)** : Devuelve la mínima clave del diccionario d siempre que las claves sean comparables.\n",
        "\n",
        "* **max(d)** : Devuelve la máxima clave del diccionario d siempre que las claves sean comparables.\n",
        "\n",
        "* **sum(d)** : Devuelve la suma de las claves del diccionario d, siempre que las claves se puedan sumar.\n",
        "\n",
        "* **clave in d** : Devuelve True si la clave clave pertenece al diccionario d y False en caso contrario.\n",
        "\n",
        "* **d.keys()** : Devuelve un iterador sobre las claves de un diccionario.\n",
        "\n",
        "* **d.values()** : Devuelve un iterador sobre los valores de un diccionario.\n",
        "\n",
        "* **d.items()** : Devuelve un iterador sobre los pares clave-valor de un diccionario.\n"
      ],
      "metadata": {
        "id": "DN0odyl9uprE"
      }
    },
    {
      "cell_type": "code",
      "source": [
        "d={\"nombre\":\"PEDRO GOKU\", \"edad\": 19, \"sexo\":\"HOMBRE\",\"ciudad\":\"ENSENADA\"}\n",
        "print (d)\n",
        "print (\"lend(d) >> \",min(d))\n",
        "print (\"max(d) >>> \",max(d))\n",
        "#print (\"sum(d) >>> \",sum(d))\n",
        "d2={1:3,5:5,3:2}\n",
        "print (\"sum(d2) >>> \",sum(d2))\n",
        "print (\"edad in d >>> \",\"edad\" in d)\n",
        "print (\"d.keys() >>>\",d.keys())\n",
        "print (d.values())\n",
        "print (d.items())"
      ],
      "metadata": {
        "id": "DpFouZ55vflL"
      },
      "execution_count": null,
      "outputs": []
    },
    {
      "cell_type": "markdown",
      "source": [
        "## **Operaciones que modifican un diccionario**\n",
        "\n",
        "* **d[clave] = valor** : Añade al diccionario d el par formado por la clave clave y el valor valor.\n",
        "\n",
        "* **d.update(d2)**. Añade los pares del diccionario d2 al diccionario d.\n",
        "\n",
        "* **d.pop(clave, alternativo)** : Devuelve del valor asociado a la clave clave del diccionario d y lo elimina del diccionario. Si la clave no está devuelve el valor alternativo.\n",
        "\n",
        "* **d.popitem()** : Devuelve la tupla formada por la clave y el valor del último par añadido al diccionario d y lo elimina del diccionario.\n",
        "\n",
        "* **del d[clave]** : Elimina del diccionario d el par con la clave clave.\n",
        "\n",
        "* **d.clear()** : Elimina todos los pares del diccionario d de manera que se queda vacío.\n"
      ],
      "metadata": {
        "id": "mPhZbuyZy6B6"
      }
    },
    {
      "cell_type": "code",
      "source": [
        "d={\"nombre\":\"PEDRO GOKU\", \"edad\": 19, \"sexo\":\"HOMBRE\",\"ciudad\":\"ENSENADA\"}\n",
        "print (d)\n",
        "\n",
        "d[\"edad\"]=23 #  se modifica la key \"edad\" a 23\n",
        "print (d)\n",
        "\n",
        "d2={1:3,5:5,3:2}\n",
        "d.update(d2)\n",
        "print (d)\n",
        "\n",
        "print (d.pop(\"nombre\", \"no existe\"))\n",
        "print (d)\n",
        "\n",
        "print (d.popitem())\n",
        "\n",
        "del d[\"ciudad\"]\n",
        "print (d)\n",
        "\n",
        "d.clear()\n",
        "print (d)"
      ],
      "metadata": {
        "id": "l4JnCXE4zSsJ"
      },
      "execution_count": null,
      "outputs": []
    }
  ]
}