{
  "nbformat": 4,
  "nbformat_minor": 0,
  "metadata": {
    "colab": {
      "provenance": [],
      "collapsed_sections": [],
      "authorship_tag": "ABX9TyOGeh9+P1vJhrr++jyzhxT5",
      "include_colab_link": true
    },
    "kernelspec": {
      "name": "python3",
      "display_name": "Python 3"
    },
    "language_info": {
      "name": "python"
    }
  },
  "cells": [
    {
      "cell_type": "markdown",
      "metadata": {
        "id": "view-in-github",
        "colab_type": "text"
      },
      "source": [
        "<a href=\"https://colab.research.google.com/github/pedroyepiz/PYTHON-432/blob/main/nombres_y_fechas.ipynb\" target=\"_parent\"><img src=\"https://colab.research.google.com/assets/colab-badge.svg\" alt=\"Open In Colab\"/></a>"
      ]
    },
    {
      "cell_type": "code",
      "metadata": {
        "id": "JFYIrrNjdYnh"
      },
      "source": [
        "def nombre ():\n",
        "    nombres=[\"juan\",\"goku\",\"krilin\",\"vegeta\",\"kakaroto\",\"mayinbu\"]\n",
        "   \n",
        "\t\n",
        "\n",
        "x=nombre()\n",
        "\n",
        "\n",
        "\n",
        "claves=[\"matri\",\"nom\",\"apPat\",\"apMat\",\"edad\",\"sexo\"]\n",
        "\n",
        "\n",
        "\n",
        "\n",
        "\n",
        "\n"
      ],
      "execution_count": 37,
      "outputs": []
    },
    {
      "cell_type": "code",
      "metadata": {
        "colab": {
          "base_uri": "https://localhost:8080/"
        },
        "id": "2Tu2iaOcmLa6",
        "outputId": "898dd1fc-5e7a-4396-9eaf-758b648210ae"
      },
      "source": [
        "import datetime\n",
        "\n",
        "fechaActual=datetime.datetime.now()\n",
        "print (fechaActual)\n",
        "\n",
        "fechaNac=datetime.datetime(1973,12,10)\n",
        "print(fechaNac)\n",
        "\n",
        "anos = fechaActual - fechaNac\n",
        "\n",
        "print (anos)"
      ],
      "execution_count": 38,
      "outputs": [
        {
          "output_type": "stream",
          "name": "stdout",
          "text": [
            "2022-10-04 06:20:18.600733\n",
            "1973-12-10 00:00:00\n",
            "17830 days, 6:20:18.600733\n"
          ]
        }
      ]
    },
    {
      "cell_type": "code",
      "metadata": {
        "colab": {
          "base_uri": "https://localhost:8080/"
        },
        "id": "Hm89FJkZo5_Z",
        "outputId": "fee59c9b-1e8f-49f2-e46c-3ec956dafb50"
      },
      "source": [
        "import datetime\n",
        "\n",
        "ahora = datetime.datetime.now()\n",
        "print (ahora)\n",
        "\n",
        "cuarentena = datetime.datetime(2020,3,26)\n",
        "print (cuarentena)\n",
        "fecha2 = datetime.datetime.strftime(ahora,\"%d / %b / %Y\")\n",
        "horaActual= datetime.datetime.strftime(ahora,\"%H: %M: %S\")\n",
        "print (fecha2)\n",
        "print (\"HORA: \",horaActual)\n",
        "x= ahora - cuarentena\n",
        "print (\" DIAS ENCERRADOS = \",x.days)\n",
        "fecha = datetime.datetime.now()\n",
        "print (fecha.year)\n",
        "\n",
        "\n",
        "\n",
        "\n"
      ],
      "execution_count": 29,
      "outputs": [
        {
          "output_type": "stream",
          "name": "stdout",
          "text": [
            "2022-10-04 05:06:20.468904\n",
            "2020-03-26 00:00:00\n",
            "04 / Oct / 2022\n",
            "HORA:  05: 06: 20\n",
            " DIAS ENCERRADOS =  922\n",
            "2022\n"
          ]
        }
      ]
    },
    {
      "cell_type": "markdown",
      "source": [],
      "metadata": {
        "id": "HRHVMieV-pCH"
      }
    },
    {
      "cell_type": "code",
      "source": [
        "import random\n",
        "lista = list()\n",
        "for i in range(20):\n",
        "    lista.append(random.randint(1,10)) \n",
        "print (lista)\n",
        "conjunto = set(lista)\n",
        "print (conjunto)\n"
      ],
      "metadata": {
        "colab": {
          "base_uri": "https://localhost:8080/"
        },
        "id": "YqG8BwvE-qFR",
        "outputId": "413ace4d-b121-41ea-e226-2095fd0694ec"
      },
      "execution_count": 30,
      "outputs": [
        {
          "output_type": "stream",
          "name": "stdout",
          "text": [
            "[8, 1, 5, 2, 9, 1, 6, 3, 2, 4, 10, 6, 3, 5, 7, 6, 7, 5, 7, 6]\n",
            "{1, 2, 3, 4, 5, 6, 7, 8, 9, 10}\n"
          ]
        }
      ]
    },
    {
      "cell_type": "code",
      "source": [
        "import random\n",
        "lista = ['rojo', 'verde', 'amarillo']\n",
        "\n",
        "random.shuffle(lista)\n",
        "print('mezcla1', lista)\n",
        "\n",
        "random.shuffle(lista)\n",
        "print('mezcla2', lista)\n",
        "print(lista[random.randint(0,2)])\n"
      ],
      "metadata": {
        "colab": {
          "base_uri": "https://localhost:8080/"
        },
        "id": "tW5vhFxqCyC7",
        "outputId": "0fb18fb1-135b-4515-b6c4-a0057f5ea410"
      },
      "execution_count": 17,
      "outputs": [
        {
          "output_type": "stream",
          "name": "stdout",
          "text": [
            "mezcla1 ['amarillo', 'verde', 'rojo']\n",
            "mezcla2 ['verde', 'amarillo', 'rojo']\n",
            "verde\n"
          ]
        }
      ]
    },
    {
      "cell_type": "markdown",
      "source": [
        "\n"
      ],
      "metadata": {
        "id": "UYpfndmMFsrf"
      }
    },
    {
      "cell_type": "code",
      "source": [
        "import random\n",
        "lista= [1,2,3,4,5,6,7,8,9,10]\n",
        "print (lista)\n",
        "random.shuffle(lista)\n",
        "print (lista)"
      ],
      "metadata": {
        "colab": {
          "base_uri": "https://localhost:8080/"
        },
        "id": "-EN7Zw6eF2Wi",
        "outputId": "e4561c36-fbb9-40a2-83c5-0ac132480072"
      },
      "execution_count": 19,
      "outputs": [
        {
          "output_type": "stream",
          "name": "stdout",
          "text": [
            "[1, 2, 3, 4, 5, 6, 7, 8, 9, 10]\n",
            "[7, 6, 2, 3, 10, 5, 4, 1, 9, 8]\n"
          ]
        }
      ]
    },
    {
      "cell_type": "code",
      "source": [
        "from random import sample\n",
        "lista=sample(range(1,30),10)\n",
        "print(lista)\n",
        "print(sorted(lista))"
      ],
      "metadata": {
        "colab": {
          "base_uri": "https://localhost:8080/"
        },
        "id": "z9Van2z8GumH",
        "outputId": "502fbf2c-87f5-4c88-ade5-6218ef690fdd"
      },
      "execution_count": 31,
      "outputs": [
        {
          "output_type": "stream",
          "name": "stdout",
          "text": [
            "[16, 10, 3, 17, 27, 22, 9, 18, 14, 7]\n",
            "[3, 7, 9, 10, 14, 16, 17, 18, 22, 27]\n"
          ]
        }
      ]
    },
    {
      "cell_type": "code",
      "source": [
        "print(sample(range(6),k=3))"
      ],
      "metadata": {
        "colab": {
          "base_uri": "https://localhost:8080/"
        },
        "id": "h6hegHnqa9pT",
        "outputId": "37d84139-aa87-4943-e34e-04779c215304"
      },
      "execution_count": 36,
      "outputs": [
        {
          "output_type": "stream",
          "name": "stdout",
          "text": [
            "[1, 3, 4]\n"
          ]
        }
      ]
    },
    {
      "cell_type": "code",
      "source": [],
      "metadata": {
        "id": "p95Of3rNa-Ru"
      },
      "execution_count": null,
      "outputs": []
    }
  ]
}