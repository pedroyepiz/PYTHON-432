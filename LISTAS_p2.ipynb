{
  "nbformat": 4,
  "nbformat_minor": 0,
  "metadata": {
    "colab": {
      "provenance": [],
      "authorship_tag": "ABX9TyMZJ9vmLszmwXFuw7BJt7qk"
    },
    "kernelspec": {
      "name": "python3",
      "display_name": "Python 3"
    },
    "language_info": {
      "name": "python"
    }
  },
  "cells": [
    {
      "cell_type": "markdown",
      "source": [
        "# **Listas**\n",
        "\n",
        "Las listas se tratan de un tipo compuesto de dato que puede almacenar distintos valores (llamados ítems o elementos) ordenados entre [ ] y separados con comas:\n",
        "\n"
      ],
      "metadata": {
        "id": "g-JMxmd_z2rT"
      }
    },
    {
      "cell_type": "code",
      "execution_count": null,
      "metadata": {
        "colab": {
          "base_uri": "https://localhost:8080/"
        },
        "id": "3qwPNLH9zxGr",
        "outputId": "d81e76a2-600b-4df6-b5b6-0808cd42d69b"
      },
      "outputs": [
        {
          "output_type": "stream",
          "name": "stdout",
          "text": [
            "los numeros son: --> (1, 2, 3, 4)\n"
          ]
        }
      ],
      "source": [
        "numeros = [1,2,3,4]\n",
        "\n",
        "print (\"los numeros son: -->\",numeros)"
      ]
    },
    {
      "cell_type": "markdown",
      "source": [
        "**Índices y slicing**\n",
        "Funcionan de una forma muy similar a las cadenas de caracteres:"
      ],
      "metadata": {
        "id": "m5Z8ehg_0KNr"
      }
    },
    {
      "cell_type": "code",
      "source": [
        "datos = [4, \"Una cadena\", -15, 3.14, \"Otra cadena\",True]\n",
        "\n",
        "print(datos[0])\n",
        "print(datos[-2])\n",
        "print(datos[2:4])"
      ],
      "metadata": {
        "id": "49vFh-yv0SYR",
        "colab": {
          "base_uri": "https://localhost:8080/"
        },
        "outputId": "bbe08d33-3b77-4204-9b1f-1fe2a125c601"
      },
      "execution_count": null,
      "outputs": [
        {
          "output_type": "stream",
          "name": "stdout",
          "text": [
            "4\n",
            "Otra cadena\n",
            "(-15, 3.14)\n"
          ]
        }
      ]
    },
    {
      "cell_type": "markdown",
      "source": [
        "**Suma de listas**\n",
        "\n",
        "Da como resultado una nueva lista que incluye todos los ítems:"
      ],
      "metadata": {
        "id": "N54Pv8VU0V9i"
      }
    },
    {
      "cell_type": "code",
      "source": [
        "numeros = [1,5,7,3]\n",
        "numeros=numeros + [5,6,7,8]\n",
        "print (\"LISTA numeros = \",numeros)"
      ],
      "metadata": {
        "colab": {
          "base_uri": "https://localhost:8080/"
        },
        "id": "EbzTyRZg0idk",
        "outputId": "0b1bf2b4-8580-415b-8c93-1324bf51b977"
      },
      "execution_count": null,
      "outputs": [
        {
          "output_type": "stream",
          "name": "stdout",
          "text": [
            "LISTA numeros =  [1, 5, 7, 3, 5, 6, 7, 8]\n"
          ]
        }
      ]
    },
    {
      "cell_type": "markdown",
      "source": [
        "**Mutabilidad**\n",
        "\n",
        "A diferencia de las cadenas, en las listas sí podemos modificar sus ítems utilizando índices:"
      ],
      "metadata": {
        "id": "EVCUjUYN0o0D"
      }
    },
    {
      "cell_type": "code",
      "source": [
        "pares = [0,2,4,5,8,10]\n",
        "pares[3] = 6\n",
        "pares"
      ],
      "metadata": {
        "colab": {
          "base_uri": "https://localhost:8080/"
        },
        "id": "5dOwuZKU0v49",
        "outputId": "22bf55da-89e1-4445-b1b4-57be5b67cc34"
      },
      "execution_count": null,
      "outputs": [
        {
          "output_type": "execute_result",
          "data": {
            "text/plain": [
              "[0, 2, 4, 6, 8, 10]"
            ]
          },
          "metadata": {},
          "execution_count": 2
        }
      ]
    },
    {
      "cell_type": "markdown",
      "source": [
        "Integran funcionalidades internas como el método .append() para añadir un ítem al final de la lista:"
      ],
      "metadata": {
        "id": "bPfUzTrd08Qu"
      }
    },
    {
      "cell_type": "code",
      "source": [
        "pares = [0,2,4,5,8,10]\n",
        "print (pares)\n",
        "pares.append(12)\n",
        "pares.append(7*2)\n",
        "print (pares)"
      ],
      "metadata": {
        "colab": {
          "base_uri": "https://localhost:8080/"
        },
        "id": "X8Bunmnt7qT_",
        "outputId": "2afb72ce-6b1a-40b6-e637-5d14d90a7afd"
      },
      "execution_count": null,
      "outputs": [
        {
          "output_type": "stream",
          "name": "stdout",
          "text": [
            "[0, 2, 4, 5, 8, 10]\n",
            "[0, 2, 4, 5, 8, 10, 12, 14]\n"
          ]
        }
      ]
    },
    {
      "cell_type": "markdown",
      "source": [
        "**enumerate**"
      ],
      "metadata": {
        "id": "gTtBeZ9jIKok"
      }
    },
    {
      "cell_type": "code",
      "source": [
        "\n",
        "lista=[\"GATINA\",\"PELUSA\",\"PELUSINA\",\"MILO\",\"KHALIFA\"]\n",
        "i=0\n",
        "\n",
        "for cadena in lista:\n",
        "    print (f\" {[i]}{cadena} --> {len(cadena)} CARACTERES\")\n",
        "    i=i+1\n",
        "\n",
        "\n"
      ],
      "metadata": {
        "colab": {
          "base_uri": "https://localhost:8080/"
        },
        "id": "t5jzgW-L32o5",
        "outputId": "58d1ef52-5a61-4f57-e366-143abf5f23b8"
      },
      "execution_count": null,
      "outputs": [
        {
          "output_type": "stream",
          "name": "stdout",
          "text": [
            " [0]GATINA --> 6 CARACTERES\n",
            " [1]PELUSA --> 6 CARACTERES\n",
            " [2]PELUSINA --> 8 CARACTERES\n",
            " [3]MILO --> 4 CARACTERES\n",
            " [4]KHALIFA --> 7 CARACTERES\n"
          ]
        }
      ]
    },
    {
      "cell_type": "code",
      "source": [
        "\n",
        "\n",
        "lista = [\"LIA\",\"GATINA\",\"PELUSA\",\"PELUSINA\",\"MILO\",\"KHALIFA\",\"MISHA\"]\n",
        "for i,cadena in enumerate(lista):\n",
        "    print (f\" {[i]}{cadena} --> {len(cadena)} CARACTERES\")\n",
        "\n",
        "print(len(lista))  \n"
      ],
      "metadata": {
        "colab": {
          "base_uri": "https://localhost:8080/"
        },
        "id": "FtllxmVuHQ87",
        "outputId": "979066a7-46c2-4f76-ed9e-ce72ddcb6eed"
      },
      "execution_count": null,
      "outputs": [
        {
          "output_type": "stream",
          "name": "stdout",
          "text": [
            " [0]LIA --> 3 CARACTERES\n",
            " [1]GATINA --> 6 CARACTERES\n",
            " [2]PELUSA --> 6 CARACTERES\n",
            " [3]PELUSINA --> 8 CARACTERES\n",
            " [4]MILO --> 4 CARACTERES\n",
            " [5]KHALIFA --> 7 CARACTERES\n",
            " [6]MISHA --> 5 CARACTERES\n",
            "7\n"
          ]
        }
      ]
    }
  ]
}