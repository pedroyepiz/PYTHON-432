{
  "nbformat": 4,
  "nbformat_minor": 0,
  "metadata": {
    "colab": {
      "provenance": [],
      "authorship_tag": "ABX9TyNlroXPGbizQXiwZUrNpO7A",
      "include_colab_link": true
    },
    "kernelspec": {
      "name": "python3",
      "display_name": "Python 3"
    },
    "language_info": {
      "name": "python"
    }
  },
  "cells": [
    {
      "cell_type": "markdown",
      "metadata": {
        "id": "view-in-github",
        "colab_type": "text"
      },
      "source": [
        "<a href=\"https://colab.research.google.com/github/pedroyepiz/PYTHON-432/blob/main/Diccionarios_en_python.ipynb\" target=\"_parent\"><img src=\"https://colab.research.google.com/assets/colab-badge.svg\" alt=\"Open In Colab\"/></a>"
      ]
    },
    {
      "cell_type": "markdown",
      "source": [
        "# **¿Qué es un Diccionario de datos?**\n",
        "Un Diccionario es una estructura de datos y un tipo de dato en Python con características especiales que nos permite almacenar cualquier tipo de valor como enteros, cadenas, listas e incluso otras funciones. Estos diccionarios nos permiten además identificar cada elemento por una clave (Key)."
      ],
      "metadata": {
        "id": "fj2iOv13qHxA"
      }
    },
    {
      "cell_type": "markdown",
      "source": [
        "Para definir un diccionario, se encierra el listado de valores entre llaves. Las parejas de clave y valor se separan con comas, y la clave y el valor se separan con dos puntos."
      ],
      "metadata": {
        "id": "gtL0P6tLqHkE"
      }
    },
    {
      "cell_type": "code",
      "source": [
        "diccionario = {'nombre' : 'Carlos', 'edad' : 22, 'cursos': ['Python','Estructurada','Calculo'] }\n",
        "print (diccionario)"
      ],
      "metadata": {
        "colab": {
          "base_uri": "https://localhost:8080/"
        },
        "id": "T3ykgfuqqHH_",
        "outputId": "da3bec10-880a-4fa3-eebc-0fb35c121d6d"
      },
      "execution_count": null,
      "outputs": [
        {
          "output_type": "stream",
          "name": "stdout",
          "text": [
            "{'nombre': 'Carlos', 'edad': 22, 'cursos': ['Python', 'Estructurada', 'Calculo']}\n"
          ]
        }
      ]
    },
    {
      "cell_type": "markdown",
      "source": [
        "Podemos acceder al elemento de un Diccionario mediante la clave de este elemento, como veremos a continuación:"
      ],
      "metadata": {
        "id": "NPzfM95iqpbT"
      }
    },
    {
      "cell_type": "code",
      "execution_count": null,
      "metadata": {
        "colab": {
          "base_uri": "https://localhost:8080/"
        },
        "id": "JHtSrzv9qD5t",
        "outputId": "e8ee7a42-4d8a-4662-88d0-63e540317b74"
      },
      "outputs": [
        {
          "output_type": "stream",
          "name": "stdout",
          "text": [
            "Carlos\n",
            "22\n",
            "['Python', 'Estructurada', 'Calculo']\n"
          ]
        }
      ],
      "source": [
        "diccionario = {'nombre' : 'Carlos', 'edad' : 22, 'cursos': ['Python','Estructurada','Calculo'] }\n",
        "\n",
        "print (diccionario['nombre'])\n",
        "print (diccionario['edad'])\n",
        "print (diccionario['cursos'])"
      ]
    },
    {
      "cell_type": "markdown",
      "source": [
        "También es posible insertar una lista dentro de un diccionario. Para acceder a cada uno de los cursos usamos los índices:"
      ],
      "metadata": {
        "id": "wxkaGyHhrBCw"
      }
    },
    {
      "cell_type": "code",
      "source": [
        "print (diccionario['cursos'][0])\n",
        "print (diccionario['cursos'][1])\n",
        "print (diccionario['cursos'][2])"
      ],
      "metadata": {
        "colab": {
          "base_uri": "https://localhost:8080/"
        },
        "id": "uHHcaM-krB-Y",
        "outputId": "a01c8597-1468-4352-990a-2dcb903f72b2"
      },
      "execution_count": null,
      "outputs": [
        {
          "output_type": "stream",
          "name": "stdout",
          "text": [
            "Python\n",
            "Estructurada\n",
            "Calculo\n"
          ]
        }
      ]
    },
    {
      "cell_type": "markdown",
      "source": [
        "Para recorrer todo el Diccionario, podemos hacer uso de la estructura for:"
      ],
      "metadata": {
        "id": "XNCLPCN_rUra"
      }
    },
    {
      "cell_type": "code",
      "source": [
        "for key in diccionario:\n",
        "  print (key, \":\", diccionario[key])"
      ],
      "metadata": {
        "colab": {
          "base_uri": "https://localhost:8080/"
        },
        "id": "znnbcvacrZIm",
        "outputId": "01196a07-3d35-40c1-8dcd-75fe13ab89ac"
      },
      "execution_count": null,
      "outputs": [
        {
          "output_type": "stream",
          "name": "stdout",
          "text": [
            "nombre : Carlos\n",
            "edad : 22\n",
            "cursos : ['Python', 'Estructurada', 'Calculo']\n"
          ]
        }
      ]
    },
    {
      "cell_type": "markdown",
      "source": [],
      "metadata": {
        "id": "w2jFGeMGRrpq"
      }
    },
    {
      "cell_type": "markdown",
      "source": [],
      "metadata": {
        "id": "oToWrIflsjiB"
      }
    },
    {
      "cell_type": "code",
      "source": [],
      "metadata": {
        "id": "j6BFGar8sjLL"
      },
      "execution_count": null,
      "outputs": []
    },
    {
      "cell_type": "markdown",
      "source": [
        "# **Métodos de los Diccionarios**\n",
        "**dict ()**\n",
        "\n",
        "Recibe como parámetro una representación de un diccionario y si es factible, devuelve un diccionario de datos."
      ],
      "metadata": {
        "id": "P0jz-6MMsi6Z"
      }
    },
    {
      "cell_type": "code",
      "source": [
        "dic =  dict(nombre=\"Goku\", apellido=\"Nuñez Yepiz\", edad=25)\n",
        "print (dic)"
      ],
      "metadata": {
        "colab": {
          "base_uri": "https://localhost:8080/"
        },
        "id": "Ssr3TymPskHb",
        "outputId": "42ad0036-4985-4523-dc63-7383458c4120"
      },
      "execution_count": null,
      "outputs": [
        {
          "output_type": "stream",
          "name": "stdout",
          "text": [
            "{'nombre': 'Goku', 'apellido': 'Nuñez Yepiz', 'edad': 25}\n"
          ]
        }
      ]
    },
    {
      "cell_type": "markdown",
      "source": [
        "**zip()**\n",
        "\n",
        "Recibe como parámetro dos elementos iterables, ya sea una cadena, una lista o una tupla. Ambos parámetros deben tener el mismo número de elementos. Se devolverá un diccionario relacionando el elemento i-esimo de cada uno de los iterables."
      ],
      "metadata": {
        "id": "LodAkbHztafK"
      }
    },
    {
      "cell_type": "code",
      "source": [
        "dic = dict(zip([1,2,3,4],[\"uno\",\"dos\",\"tres\",[6,7,8]]))\n",
        "print (dic)"
      ],
      "metadata": {
        "colab": {
          "base_uri": "https://localhost:8080/"
        },
        "id": "krK6s9PVte4o",
        "outputId": "da271639-136b-4dbb-ec85-1622f9d3bb4a"
      },
      "execution_count": null,
      "outputs": [
        {
          "output_type": "stream",
          "name": "stdout",
          "text": [
            "{1: 'uno', 2: 'dos', 3: 'tres', 4: [6, 7, 8]}\n"
          ]
        }
      ]
    },
    {
      "cell_type": "markdown",
      "source": [
        "**items()**\n",
        "\n",
        "Devuelve una lista de tuplas, cada tupla se compone de dos elementos: el primero será la clave y el segundo, su valor."
      ],
      "metadata": {
        "id": "V3Y4oJsctuUe"
      }
    },
    {
      "cell_type": "code",
      "source": [
        "\n",
        "items = dic.items()\n",
        "print (dic)\n",
        "print (items)"
      ],
      "metadata": {
        "colab": {
          "base_uri": "https://localhost:8080/"
        },
        "id": "ZC7v_QxDtwJx",
        "outputId": "0591fc12-9339-44d9-900b-6fcc41c9ebd7"
      },
      "execution_count": null,
      "outputs": [
        {
          "output_type": "stream",
          "name": "stdout",
          "text": [
            "{1: 'uno', 2: 'dos', 3: 'tres', 4: [6, 7, 8]}\n",
            "dict_items([(1, 'uno'), (2, 'dos'), (3, 'tres'), (4, [6, 7, 8])])\n"
          ]
        }
      ]
    },
    {
      "cell_type": "markdown",
      "source": [
        "**keys(**)\n",
        "\n",
        "Retorna una lista de elementos, los cuales serán las claves de nuestro diccionario."
      ],
      "metadata": {
        "id": "Q8SW-jTfuJSp"
      }
    },
    {
      "cell_type": "code",
      "source": [
        "#dic =   {'a': 1, 'b': 2, 'c': 3, 'd': 4}\n",
        "keys= dic.keys()\n",
        "print (dic)\n",
        "print (keys)\n"
      ],
      "metadata": {
        "colab": {
          "base_uri": "https://localhost:8080/"
        },
        "id": "0_RlCSqNuLIp",
        "outputId": "9b660237-3b7c-448a-9ef8-47697554a58f"
      },
      "execution_count": null,
      "outputs": [
        {
          "output_type": "stream",
          "name": "stdout",
          "text": [
            "{1: 'uno', 2: 'dos', 3: 'tres', 4: [6, 7, 8]}\n",
            "dict_keys([1, 2, 3, 4])\n"
          ]
        }
      ]
    },
    {
      "cell_type": "markdown",
      "source": [
        "**values()**\n",
        "\n",
        "Retorna una lista de elementos, que serán los valores de nuestro diccionario."
      ],
      "metadata": {
        "id": "MjwQiEmDueCg"
      }
    },
    {
      "cell_type": "code",
      "source": [
        "#dic =   {'a': 1, 'b': 2, 'c': 3, 'd': 4}\n",
        "values= dic.values()\n",
        "print (dic)\n",
        "print (values)"
      ],
      "metadata": {
        "colab": {
          "base_uri": "https://localhost:8080/"
        },
        "id": "c7zBwGuSufzv",
        "outputId": "e51ca7e7-2f1c-4059-fa60-ea0b998be110"
      },
      "execution_count": null,
      "outputs": [
        {
          "output_type": "stream",
          "name": "stdout",
          "text": [
            "{1: 'uno', 2: 'dos', 3: 'tres', 4: [6, 7, 8]}\n",
            "dict_values(['uno', 'dos', 'tres', [6, 7, 8]])\n"
          ]
        }
      ]
    },
    {
      "cell_type": "markdown",
      "source": [
        "**clear()**\n",
        "\n",
        "Elimina todos los ítems del diccionario dejándolo vacío."
      ],
      "metadata": {
        "id": "08cKpqKIuuOr"
      }
    },
    {
      "cell_type": "code",
      "source": [
        "dic1 =   {'a': 1, 'b': 2, 'c': 3, 'd': 4}\n",
        "dic1.clear()\n",
        "print (dic1)"
      ],
      "metadata": {
        "colab": {
          "base_uri": "https://localhost:8080/"
        },
        "id": "_if2sIPQuwZy",
        "outputId": "5b412ea1-869a-4047-a148-b497c01c878d"
      },
      "execution_count": null,
      "outputs": [
        {
          "output_type": "stream",
          "name": "stdout",
          "text": [
            "{}\n"
          ]
        }
      ]
    },
    {
      "cell_type": "markdown",
      "source": [
        "**copy()**\n",
        "\n",
        "Retorna una copia del diccionario original."
      ],
      "metadata": {
        "id": "qKoHYslmvK7Y"
      }
    },
    {
      "cell_type": "code",
      "source": [
        "dic =   {'a': 1, 'b': 2, 'c': 3, 'd': 4}\n",
        "dic1 = dic.copy()\n",
        "print (dic1)"
      ],
      "metadata": {
        "colab": {
          "base_uri": "https://localhost:8080/"
        },
        "id": "Ns5so5wNvREE",
        "outputId": "b6796061-4f5b-4ddb-b2a2-3c0f51e2e23d"
      },
      "execution_count": null,
      "outputs": [
        {
          "output_type": "stream",
          "name": "stdout",
          "text": [
            "{'a': 1, 'b': 2, 'c': 3, 'd': 4}\n"
          ]
        }
      ]
    },
    {
      "cell_type": "markdown",
      "source": [
        "**fromkeys()**\n",
        "\n",
        "Recibe como parámetros un iterable y un valor, devolviendo un diccionario que contiene como claves los elementos del iterable con el mismo valor ingresado. Si el valor no es ingresado, devolverá none para todas las claves."
      ],
      "metadata": {
        "id": "ouWmfent9bB9"
      }
    },
    {
      "cell_type": "code",
      "source": [
        "dic = dict.fromkeys(['a','b','c','d'],1)\n",
        "print (dic)"
      ],
      "metadata": {
        "colab": {
          "base_uri": "https://localhost:8080/"
        },
        "id": "AXLBKTE09qHf",
        "outputId": "f97ddce8-6b1d-4941-dd43-9469a19270a7"
      },
      "execution_count": null,
      "outputs": [
        {
          "output_type": "stream",
          "name": "stdout",
          "text": [
            "{'a': 1, 'b': 1, 'c': 1, 'd': 1}\n"
          ]
        }
      ]
    },
    {
      "cell_type": "markdown",
      "source": [
        "**get()**\n",
        "\n",
        "Recibe como parámetro una clave, devuelve el valor de la clave. Si no lo encuentra, devuelve un objeto none."
      ],
      "metadata": {
        "id": "888hV_St999g"
      }
    },
    {
      "cell_type": "code",
      "source": [
        "dic =   {'a': 1, 'b': 2, 'c': 3, 'd': 4}\n",
        "valor = dic.get('b')\n",
        "print(valor)"
      ],
      "metadata": {
        "colab": {
          "base_uri": "https://localhost:8080/"
        },
        "id": "MCNYBJP69_oM",
        "outputId": "766581f9-445d-46e1-bded-026dc59096a3"
      },
      "execution_count": null,
      "outputs": [
        {
          "output_type": "stream",
          "name": "stdout",
          "text": [
            "2\n"
          ]
        }
      ]
    },
    {
      "cell_type": "markdown",
      "source": [
        "**pop()**\n",
        "\n",
        "Recibe como parámetro una clave, elimina esta y devuelve su valor. Si no lo encuentra, devuelve error."
      ],
      "metadata": {
        "id": "uh0W0RmI-5eH"
      }
    },
    {
      "cell_type": "code",
      "source": [
        "dic =   {'a': 1, 'b': 2, 'c': 3, 'd': 4}\n",
        "valor = dic.pop('b')\n",
        "print (dic)\n",
        "print(valor)"
      ],
      "metadata": {
        "colab": {
          "base_uri": "https://localhost:8080/"
        },
        "id": "R57dCiXU_Ajy",
        "outputId": "8c1668ce-3118-4ab1-b0c9-5d70d6ee123a"
      },
      "execution_count": null,
      "outputs": [
        {
          "output_type": "stream",
          "name": "stdout",
          "text": [
            "{'a': 1, 'c': 3, 'd': 4}\n",
            "2\n"
          ]
        }
      ]
    },
    {
      "cell_type": "markdown",
      "source": [
        "**setdefault()**\n",
        "\n",
        "Funciona de dos formas. En la primera como get"
      ],
      "metadata": {
        "id": "z0I9itoh_OGk"
      }
    },
    {
      "cell_type": "code",
      "source": [
        "dic =   {'a': 1, 'b': 2, 'c': 3, 'd': 4}\n",
        "valor = dic.setdefault('b')\n",
        "print (dic)\n",
        "print(valor)"
      ],
      "metadata": {
        "colab": {
          "base_uri": "https://localhost:8080/"
        },
        "id": "35-8BArU_T_I",
        "outputId": "944d5c98-1bca-4ef9-e6bd-a2bc662ed419"
      },
      "execution_count": null,
      "outputs": [
        {
          "output_type": "stream",
          "name": "stdout",
          "text": [
            "{'a': 1, 'b': 2, 'c': 3, 'd': 4}\n",
            "2\n"
          ]
        }
      ]
    },
    {
      "cell_type": "markdown",
      "source": [
        "Y en la segunda forma, nos sirve para agregar un nuevo elemento a nuestro diccionario."
      ],
      "metadata": {
        "id": "n5RlKhS1_dAs"
      }
    },
    {
      "cell_type": "code",
      "source": [
        "dic =   {'a': 1, 'b': 2, 'c': 3, 'd': 4}\n",
        "valor = dic.setdefault(\"f\",14)\n",
        "print (dic)\n",
        "print(valor)"
      ],
      "metadata": {
        "colab": {
          "base_uri": "https://localhost:8080/"
        },
        "id": "3XfjAYNm_hHq",
        "outputId": "6f6d1016-0556-49f4-ad70-ce7d5f02a2ed"
      },
      "execution_count": null,
      "outputs": [
        {
          "output_type": "stream",
          "name": "stdout",
          "text": [
            "{'a': 1, 'b': 2, 'c': 3, 'd': 4, 'f': 14}\n",
            "14\n"
          ]
        }
      ]
    },
    {
      "cell_type": "markdown",
      "source": [
        "**update()**\n",
        "\n",
        "Recibe como parámetro otro diccionario. Si se tienen claves iguales, actualiza el valor de la clave repetida; si no hay claves iguales, este par clave-valor es agregado al diccionario."
      ],
      "metadata": {
        "id": "fshtoYC1_Tei"
      }
    },
    {
      "cell_type": "code",
      "source": [
        "dic1 =  {'a': 1, 'b': 2, 'c': 3, 'd': 4}\n",
        "dic2 = {'c' : 6, 'b' : 5, 'e' : 9 , 'f' : 10}\n",
        "dic1.update(dic2)\n",
        "print (dic1)\n",
        "print (dic2)"
      ],
      "metadata": {
        "colab": {
          "base_uri": "https://localhost:8080/"
        },
        "id": "lgJLOx_R_QqU",
        "outputId": "f80fd1a7-ac24-4127-ee50-ffc8fd018c16"
      },
      "execution_count": null,
      "outputs": [
        {
          "output_type": "stream",
          "name": "stdout",
          "text": [
            "{'a': 1, 'b': 5, 'c': 6, 'd': 4, 'e': 9, 'f': 10}\n",
            "{'c': 6, 'b': 5, 'e': 9, 'f': 10}\n"
          ]
        }
      ]
    },
    {
      "cell_type": "markdown",
      "source": [],
      "metadata": {
        "id": "mUaoD1MA-7Mr"
      }
    },
    {
      "cell_type": "markdown",
      "source": [],
      "metadata": {
        "id": "vg5qESeZvna0"
      }
    },
    {
      "cell_type": "markdown",
      "source": [],
      "metadata": {
        "id": "opv_gxBcvnX-"
      }
    },
    {
      "cell_type": "markdown",
      "source": [],
      "metadata": {
        "id": "iXxjy1FovnUT"
      }
    },
    {
      "cell_type": "markdown",
      "source": [],
      "metadata": {
        "id": "92R2NpZAvnQT"
      }
    },
    {
      "cell_type": "markdown",
      "source": [],
      "metadata": {
        "id": "TPA__yUMvnGV"
      }
    },
    {
      "cell_type": "markdown",
      "source": [
        "https://devcode.la/tutoriales/diccionarios-en-python/"
      ],
      "metadata": {
        "id": "OLXHgvAzvm1g"
      }
    }
  ]
}