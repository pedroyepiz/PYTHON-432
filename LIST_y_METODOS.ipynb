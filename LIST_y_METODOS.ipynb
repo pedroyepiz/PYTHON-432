{
  "nbformat": 4,
  "nbformat_minor": 0,
  "metadata": {
    "colab": {
      "provenance": [],
      "authorship_tag": "ABX9TyMYMN6Cpt72dQcX8yC6xOC3",
      "include_colab_link": true
    },
    "kernelspec": {
      "name": "python3",
      "display_name": "Python 3"
    },
    "language_info": {
      "name": "python"
    }
  },
  "cells": [
    {
      "cell_type": "markdown",
      "metadata": {
        "id": "view-in-github",
        "colab_type": "text"
      },
      "source": [
        "<a href=\"https://colab.research.google.com/github/pedroyepiz/PYTHON-432/blob/main/LIST_y_METODOS.ipynb\" target=\"_parent\"><img src=\"https://colab.research.google.com/assets/colab-badge.svg\" alt=\"Open In Colab\"/></a>"
      ]
    },
    {
      "cell_type": "markdown",
      "source": [
        "# **LISTAS**"
      ],
      "metadata": {
        "id": "zQrNnuJx-VTb"
      }
    },
    {
      "cell_type": "markdown",
      "source": [
        "Una lista es una secuencias ordenadas de objetos de distintos tipos.\n",
        "\n",
        "Se construyen poniendo los elementos entre corchetes [ ] separados por comas.\n",
        "\n",
        "**Se caracterizan por:**\n",
        "\n",
        "*   Tienen orden.\n",
        "*   Pueden contener elementos de distintos tipos.\n",
        "*   Son mutables, es decir, pueden alterarse durante la ejecución de un programa.\n",
        "\n",
        "\n",
        "\n",
        "\n",
        "\n",
        "\n",
        "\n",
        "\n"
      ],
      "metadata": {
        "id": "OM3wNr-I9rfm"
      }
    },
    {
      "cell_type": "markdown",
      "source": [
        "**Creación de listas mediante la función list()**\n",
        "\n",
        "Otra forma de crear listas es mediante la función **list()**.\n",
        "\n",
        "**list(c)** : Crea una lista con los elementos de la secuencia o colección c.\n",
        "\n",
        "Se pueden indicar los elementos separados por comas, mediante una cadena, o mediante una colección de elementos iterable.\n"
      ],
      "metadata": {
        "id": "ZZdSJVi-BAMs"
      }
    },
    {
      "cell_type": "code",
      "source": [
        "lista = list([1, 2, 3])\n",
        "print ( lista )\n",
        "lista = list(\"Python\")\n",
        "['P', 'y', 't', 'h', 'o', 'n']"
      ],
      "metadata": {
        "colab": {
          "base_uri": "https://localhost:8080/"
        },
        "id": "2r3RI2WHBMb6",
        "outputId": "d3d8e8b0-b996-499d-f01d-5489bfd30a05"
      },
      "execution_count": 11,
      "outputs": [
        {
          "output_type": "stream",
          "name": "stdout",
          "text": [
            "[1, 2, 3]\n"
          ]
        },
        {
          "output_type": "execute_result",
          "data": {
            "text/plain": [
              "['P', 'y', 't', 'h', 'o', 'n']"
            ]
          },
          "metadata": {},
          "execution_count": 11
        }
      ]
    },
    {
      "cell_type": "markdown",
      "source": [
        "# **Listas**\n",
        "\n",
        "Las listas se tratan de un tipo compuesto de dato que puede almacenar distintos valores (llamados ítems o elementos) ordenados entre [ ] y separados con comas:\n",
        "\n"
      ],
      "metadata": {
        "id": "g-JMxmd_z2rT"
      }
    },
    {
      "cell_type": "code",
      "execution_count": null,
      "metadata": {
        "id": "3qwPNLH9zxGr"
      },
      "outputs": [],
      "source": [
        "numeros = [1,2,3,4]\n",
        "\n",
        "print (\"los numeros son: -->\",numeros)"
      ]
    },
    {
      "cell_type": "markdown",
      "source": [
        "**Índices y slicing**\n",
        "Funcionan de una forma muy similar a las cadenas de caracteres:"
      ],
      "metadata": {
        "id": "m5Z8ehg_0KNr"
      }
    },
    {
      "cell_type": "code",
      "source": [
        "datos = [4, \"Una cadena\", -15, 3.14, \"Otra cadena\",True]\n",
        "\n",
        "print(datos[0])\n",
        "print(datos[-2])\n",
        "print(datos[2:4])"
      ],
      "metadata": {
        "id": "49vFh-yv0SYR"
      },
      "execution_count": null,
      "outputs": []
    },
    {
      "cell_type": "markdown",
      "source": [
        "**Suma de listas**\n",
        "\n",
        "Da como resultado una nueva lista que incluye todos los ítems:"
      ],
      "metadata": {
        "id": "N54Pv8VU0V9i"
      }
    },
    {
      "cell_type": "code",
      "source": [
        "numeros = [1,5,7,3]\n",
        "numeros=numeros + [5,6,7,8]\n",
        "print (\"LISTA numeros = \",numeros)"
      ],
      "metadata": {
        "id": "EbzTyRZg0idk"
      },
      "execution_count": null,
      "outputs": []
    },
    {
      "cell_type": "markdown",
      "source": [
        "**Mutabilidad**\n",
        "\n",
        "A diferencia de las cadenas, en las listas sí podemos modificar sus ítems utilizando índices:"
      ],
      "metadata": {
        "id": "EVCUjUYN0o0D"
      }
    },
    {
      "cell_type": "code",
      "source": [
        "pares = [0,2,4,5,8,10]\n",
        "pares[3] = 6\n",
        "pares"
      ],
      "metadata": {
        "id": "5dOwuZKU0v49"
      },
      "execution_count": null,
      "outputs": []
    },
    {
      "cell_type": "code",
      "source": [
        "pares = [0,2,4,5,8,10]\n",
        "print (pares)\n",
        "pares.append(12)\n",
        "pares.append(7*2)\n",
        "print (pares)"
      ],
      "metadata": {
        "id": "X8Bunmnt7qT_"
      },
      "execution_count": null,
      "outputs": []
    },
    {
      "cell_type": "markdown",
      "source": [
        "**enumerate**"
      ],
      "metadata": {
        "id": "gTtBeZ9jIKok"
      }
    },
    {
      "cell_type": "code",
      "source": [
        "\n",
        "lista=[\"GATINA\",\"PELUSA\",\"PELUSINA\",\"MILO\",\"KHALIFA\"]\n",
        "i=0\n",
        "\n",
        "for cadena in lista:\n",
        "    print (f\" {[i]}{cadena} --> {len(cadena)} CARACTERES\")\n",
        "    i=i+1\n",
        "\n",
        "\n"
      ],
      "metadata": {
        "id": "t5jzgW-L32o5"
      },
      "execution_count": null,
      "outputs": []
    },
    {
      "cell_type": "code",
      "source": [
        "\n",
        "\n",
        "lista = [\"LIA\",\"GATINA\",\"PELUSA\",\"PELUSINA\",\"MILO\",\"KHALIFA\",\"MISHA\"]\n",
        "for i,cadena in enumerate(lista):\n",
        "    print (f\" {[i]}{cadena} --> {len(cadena)} CARACTERES\")\n",
        "\n",
        "print(len(lista))  \n"
      ],
      "metadata": {
        "id": "FtllxmVuHQ87"
      },
      "execution_count": null,
      "outputs": []
    },
    {
      "cell_type": "markdown",
      "source": [
        "# **METODOS DE LA CLASE list**"
      ],
      "metadata": {
        "id": "ljL7SSgMjI32"
      }
    },
    {
      "cell_type": "markdown",
      "source": [
        "Integran funcionalidades internas como el método .append() para añadir un ítem al final de la lista:"
      ],
      "metadata": {
        "id": "bPfUzTrd08Qu"
      }
    },
    {
      "cell_type": "markdown",
      "source": [
        "**append()**\n",
        "\n",
        "Añade un ítem al final de la lista:"
      ],
      "metadata": {
        "id": "8TTJokgYkeEI"
      }
    },
    {
      "cell_type": "code",
      "source": [
        "\n",
        "lista = [1,2,3,4,5]\n",
        "lista2 = lista\n",
        "#print (id(lista),id(lista2))\n",
        "lista.append(\"hola\")\n",
        "print (lista)\n"
      ],
      "metadata": {
        "id": "ai9RrmsAkY5n"
      },
      "execution_count": null,
      "outputs": []
    },
    {
      "cell_type": "markdown",
      "source": [
        "**clear()**\n",
        "\n",
        "Vacía todos los ítems de una lista:"
      ],
      "metadata": {
        "id": "gB5k-Ux1ko-a"
      }
    },
    {
      "cell_type": "code",
      "execution_count": null,
      "metadata": {
        "id": "XB5jQPXckWHi"
      },
      "outputs": [],
      "source": [
        "lista = [1,2,3,4,5]\n",
        "lista2 = lista\n",
        "print (id(lista),id(lista2))\n",
        "lista.append(\"hola\")\n",
        "print (lista)\n",
        "lista.clear()\n",
        "print (lista)\n",
        "print (lista2)"
      ]
    },
    {
      "cell_type": "markdown",
      "source": [
        "**extend()**\n",
        "\n",
        "Une una lista a otra:"
      ],
      "metadata": {
        "id": "Veod1xmZksVm"
      }
    },
    {
      "cell_type": "code",
      "source": [
        "l1 = [1,2,2,3,3,3,3]\n",
        "l2 = [4,5,6]\n",
        "l3 = l1\n",
        "l1.extend(l2)\n",
        "l3.append(l2)\n",
        "print (l1[6])\n",
        "print (l3)\n",
        "print(l3.count(3))"
      ],
      "metadata": {
        "id": "NGyQzu_ykwEX"
      },
      "execution_count": null,
      "outputs": []
    },
    {
      "cell_type": "markdown",
      "source": [
        "**count()**\n",
        "\n",
        "Cuenta el número de veces que aparece un ítem:"
      ],
      "metadata": {
        "id": "Wny_RoYIky-A"
      }
    },
    {
      "cell_type": "code",
      "source": [
        "x=[\"Hola\", \"mundo\", \"Hola\",\"cruel\",\"despiadado\"].count(\"Hola\")\n",
        "print (x)\n",
        "print ([4,7,12,45,6,8,3,6].count(6))"
      ],
      "metadata": {
        "id": "K21jAmX4k3B4"
      },
      "execution_count": null,
      "outputs": []
    },
    {
      "cell_type": "markdown",
      "source": [
        "**index()**\n",
        "\n",
        "Devuelve el índice en el que aparece un ítem (error si no aparece):"
      ],
      "metadata": {
        "id": "dxHVA84dk6f2"
      }
    },
    {
      "cell_type": "code",
      "source": [
        "try:\n",
        "    i=[\"Hola\", \"mundo\", \"mundo\"].index(\"mundo\")\n",
        "    print (\"ESTA EN indice \",i)\n",
        "except:\n",
        "    print (\"NO TA\")"
      ],
      "metadata": {
        "id": "uwbrGUntk_2G"
      },
      "execution_count": null,
      "outputs": []
    },
    {
      "cell_type": "markdown",
      "source": [
        "**insert()**\n",
        "\n",
        "Agrega un ítem a la lista en un índice específico:\n",
        "\n",
        "**Primera posición (0):**"
      ],
      "metadata": {
        "id": "5tw3H7Z7lCoG"
      }
    },
    {
      "cell_type": "code",
      "source": [
        "l = [1,2,3]\n",
        "l.insert(0,2)\n",
        "print (l)"
      ],
      "metadata": {
        "id": "Xx0zbZP4lGjZ"
      },
      "execution_count": null,
      "outputs": []
    },
    {
      "cell_type": "markdown",
      "source": [
        "**Penúltima posición (-1):**\n",
        "\n"
      ],
      "metadata": {
        "id": "9o5S1xLklI_Y"
      }
    },
    {
      "cell_type": "code",
      "source": [
        "l = [5,10,2,4,7,2,15,25]\n",
        "l.insert(-15,20) \n",
        "print (l)"
      ],
      "metadata": {
        "id": "3eB73wWvlMzc"
      },
      "execution_count": null,
      "outputs": []
    },
    {
      "cell_type": "markdown",
      "source": [
        "**Última posición en una lista con len():**\n",
        "\n"
      ],
      "metadata": {
        "id": "4l4z8s6QlO9l"
      }
    },
    {
      "cell_type": "code",
      "source": [
        "l = [5,10,15,25]\n",
        "n = len(l)\n",
        "print (f\" {l} TIENE {n}\")\n",
        "l.insert(n,30)\n",
        "print (f\" {l} TIENE {n}\")"
      ],
      "metadata": {
        "id": "3pExiSlRlRsw"
      },
      "execution_count": null,
      "outputs": []
    },
    {
      "cell_type": "markdown",
      "source": [
        "**Una posición fuera de rango añade el elemento al final de la lista (999):**\n",
        "\n"
      ],
      "metadata": {
        "id": "CHdze50ylUPW"
      }
    },
    {
      "cell_type": "code",
      "source": [
        "l.insert(999, 800)\n",
        "print (l)"
      ],
      "metadata": {
        "id": "yd5rkFvUlXsO"
      },
      "execution_count": null,
      "outputs": []
    },
    {
      "cell_type": "markdown",
      "source": [
        "**pop()**\n",
        "\n",
        "Extrae un ítem de la lista y lo borra:"
      ],
      "metadata": {
        "id": "yX6N5HLClZ5f"
      }
    },
    {
      "cell_type": "code",
      "source": [
        "l2 = []\n",
        "l = [10,20,30,40,50]\n",
        "x=l.pop()\n",
        "l2.append(x)\n",
        "print(l,l2)\n",
        "#x=l.pop()\n",
        "#l2.append(x)\n",
        "#print(l,l2)\n",
        "#x=l.pop(0)\n",
        "#l2.append(x)\n",
        "#print(l,l2)"
      ],
      "metadata": {
        "id": "huUyzwnalckY"
      },
      "execution_count": null,
      "outputs": []
    },
    {
      "cell_type": "markdown",
      "source": [
        "**NOTA:**\n",
        "Podemos indicarle un índice con el elemento a sacar (0 es el primer ítem):\n",
        "\n"
      ],
      "metadata": {
        "id": "NncZr4JeljF1"
      }
    },
    {
      "cell_type": "code",
      "source": [
        "print(l.pop(0))\n",
        "print(l)"
      ],
      "metadata": {
        "id": "8MxJYhRZlj3h"
      },
      "execution_count": null,
      "outputs": []
    },
    {
      "cell_type": "markdown",
      "source": [
        "\n",
        "**remove()**\n",
        "\n",
        "Borra el primer ítem de la lista cuyo valor concuerde con el que indicamos:"
      ],
      "metadata": {
        "id": "ag1BDZCFll7u"
      }
    },
    {
      "cell_type": "code",
      "source": [
        "l = [20,30,30,30,40]\n",
        "l.remove(30)\n",
        "print(l)"
      ],
      "metadata": {
        "id": "2T560CBwltd9"
      },
      "execution_count": null,
      "outputs": []
    },
    {
      "cell_type": "markdown",
      "source": [
        "____"
      ],
      "metadata": {
        "id": "I3fyjgzXmJne"
      }
    },
    {
      "cell_type": "markdown",
      "source": [
        "**reverse**()\n",
        "\n",
        "Le da la vuelta a la lista actual:"
      ],
      "metadata": {
        "id": "BLBIlQbelv15"
      }
    },
    {
      "cell_type": "code",
      "source": [
        "l.reverse()\n",
        "print(l)"
      ],
      "metadata": {
        "id": "TxHc1yc0l7hW"
      },
      "execution_count": null,
      "outputs": []
    },
    {
      "cell_type": "markdown",
      "source": [
        "**Las cadenas no tienen el método .reverse() pero podemos simularlo haciendo unas conversiones:**\n",
        "\n"
      ],
      "metadata": {
        "id": "xmpbvFtMl_lG"
      }
    },
    {
      "cell_type": "code",
      "source": [
        "lista = list(\"Hola mundo\")\n",
        "lista.reverse()\n",
        "cadena = \"\".join(lista)\n",
        "cadena    "
      ],
      "metadata": {
        "id": "KSAQiskcmF56"
      },
      "execution_count": null,
      "outputs": []
    },
    {
      "cell_type": "markdown",
      "source": [
        "**sort()**\n",
        "\n",
        "Ordena automáticamente los ítems de una lista por su valor de menor a mayor:"
      ],
      "metadata": {
        "id": "OU8wBFm0mI6Z"
      }
    },
    {
      "cell_type": "code",
      "source": [
        "lista = [5,-10,35,0,-65,100]\n",
        "lista.sort()\n",
        "lista"
      ],
      "metadata": {
        "id": "eY4dtXoZmKER"
      },
      "execution_count": null,
      "outputs": []
    },
    {
      "cell_type": "markdown",
      "source": [
        "**Podemos utilizar el argumento reverse=True para indicar que la ordene del revés:**\n",
        "\n"
      ],
      "metadata": {
        "id": "VkIUAl8qmMhB"
      }
    },
    {
      "cell_type": "code",
      "source": [
        "lista.sort(reverse=True)\n",
        "lista"
      ],
      "metadata": {
        "id": "t9qSdgoDmQEy"
      },
      "execution_count": null,
      "outputs": []
    },
    {
      "cell_type": "markdown",
      "source": [
        "**FUNCION sorted**"
      ],
      "metadata": {
        "id": "-yVn_BjGm5Xp"
      }
    },
    {
      "cell_type": "code",
      "source": [
        "alumnos = [\"JUAN\",\"PEDRITO\",\"MARIA\",\"ESTEFANIA\",\"JESUS\",\"NOELIA\"]\n",
        "sorted_alumnos = sorted(alumnos)\n",
        "print(alumnos)\n",
        "print(sorted_alumnos)"
      ],
      "metadata": {
        "id": "X-jS7LXQm4W8"
      },
      "execution_count": null,
      "outputs": []
    },
    {
      "cell_type": "markdown",
      "source": [
        "**FUNCION len**"
      ],
      "metadata": {
        "id": "i6UCo6O7oz4y"
      }
    },
    {
      "cell_type": "code",
      "source": [
        "palabra = \"papel\"\n",
        "alumnos = [\"JUAN\",\"PEDRITO\",\"MARIA\",\"ESTEFANIA\",\"JESUS\",\"NOELIA\"]\n",
        "print(len(palabra))\n",
        "x=len(alumnos)\n",
        "print (x)\n",
        "\n",
        "#palabras = [\"papel\",\"platano\",\"tu\",\"estafilococo\",\"cacatua\",\"yo\",\"sopa\"]\n",
        "#print(sorted(palabras))\n",
        "#print(sorted(palabras,key=len))\n",
        "#print(sorted(palabras,reverse=True))\n",
        "#print(sorted(palabras,key=len,reverse=True))"
      ],
      "metadata": {
        "id": "JmHs5mxjo4up"
      },
      "execution_count": null,
      "outputs": []
    },
    {
      "cell_type": "markdown",
      "source": [
        "# **Listado de métodos de la clase list**\n",
        "\n",
        "\n",
        "**Método\t              Descripción**\n",
        "\n",
        "**append()**\tAñade un nuevo elemento al final de la lista.\n",
        "\n",
        "**extend()**\tAñade un grupo de elementos (iterables) al final de la lista.\n",
        "\n",
        "**insert(indice, elemento)**\tInserta un elemento en una posición concreta de la lista.\n",
        "\n",
        "**remove(elemento)**\tElimina la primera ocurrencia del elemento en la lista.\n",
        "\n",
        "**pop([i])**\tObtiene y elimina el elemento de la lista en la posición i. Si no se especifica, obtiene y elimina el último elemento.\n",
        "\n",
        "**clear()**\tBorra todos los elementos de la lista.\n",
        "\n",
        "**index(elemento)**\tObtiene el índice de la primera ocurrencia del elemento en la lista. Si el elemento no se encuentra, se lanza la excepción ValueError.\n",
        "\n",
        "**count(elemento)**\tDevuelve el número de ocurrencias del elemento en la lista.\n",
        "\n",
        "**sort()**\tOrdena los elementos de la lista utilizando el operador <.\n",
        "\n",
        "**reverse()**\tObtiene los elementos de la lista en orden inverso.\n",
        "\n",
        "**copy()**\tDevuelve una copia poco profunda de la lista.\n"
      ],
      "metadata": {
        "id": "3LVCE2qTUZvP"
      }
    },
    {
      "cell_type": "markdown",
      "source": [
        "____\n"
      ],
      "metadata": {
        "id": "w8kSNhdv8XpE"
      }
    },
    {
      "cell_type": "markdown",
      "source": [
        "# **Operaciones que no modifican una lista**\n",
        "\n",
        "**len(l)** : Devuelve el número de elementos de la lista l.\n",
        "\n",
        "\n",
        "**min(l)** : Devuelve el mínimo elemento de la lista l siempre que los datos sean comparables.\n",
        "\n",
        "**max(l)** : Devuelve el máximo elemento de la lista l siempre que los datos sean comparables.\n",
        "\n",
        "**sum(l)** : Devuelve la suma de los elementos de la lista l, siempre que los datos se puedan sumar.\n",
        "\n",
        "**dato in l** : Devuelve True si el dato dato pertenece a la lista l y False en caso contrario.\n",
        "\n",
        "**l.index(dato)** : Devuelve la posición que ocupa en la lista l el primer elemento con valor dato.\n",
        "\n",
        "**l.count(dato)** : Devuelve el número de veces que el valor dato está contenido en la lista l.\n",
        "\n",
        "**all(l)** : Devuelve True si todos los elementos de la lista l son True y False en caso contrario.\n",
        "\n",
        "**any(l)** : Devuelve True si algún elemento de la lista l es True y False en caso contrario.\n"
      ],
      "metadata": {
        "id": "2ccTPaNm8c8l"
      }
    },
    {
      "cell_type": "markdown",
      "source": [
        "# **Operaciones que modifican una lista**\n",
        "\n",
        "**l1 + l2** : Crea una nueva lista concatenan los elementos de la listas l1 y l2.\n",
        "\n",
        "**l.append(dato)** : Añade dato al final de la lista l.\n",
        "\n",
        "**l.extend(sequencia)** : Añade los datos de sequencia al final de la lista l.\n",
        "\n",
        "**l.insert(índice, dato)** : Inserta dato en la posición índice de la lista l y desplaza los elementos una posición a partir de la posición índice.\n",
        "\n",
        "**l.remove(dato)** : Elimina el primer elemento con valor dato en la lista l y desplaza los que están por detrás de él una posición hacia delante.\n",
        "\n",
        "**l.pop([índice])** : Devuelve el dato en la posición índice y lo elimina de la lista l, desplazando los elementos por detrás de él una posición hacia delante.\n",
        "\n",
        "**l.sort()**: Ordena los elementos de la lista l de acuerdo al orden predefinido, siempre que los elementos sean comparables.\n",
        "\n",
        "**l.reverse()** : invierte el orden de los elementos de la lista l."
      ],
      "metadata": {
        "id": "4CColb8K-4-m"
      }
    },
    {
      "cell_type": "code",
      "source": [],
      "metadata": {
        "id": "JlYuUjVp8_FW"
      },
      "execution_count": null,
      "outputs": []
    }
  ]
}