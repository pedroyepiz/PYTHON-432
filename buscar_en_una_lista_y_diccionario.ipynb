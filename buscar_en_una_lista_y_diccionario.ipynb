{
  "nbformat": 4,
  "nbformat_minor": 0,
  "metadata": {
    "colab": {
      "provenance": [],
      "authorship_tag": "ABX9TyPz6igp77JEmBUR+60tkeDs"
    },
    "kernelspec": {
      "name": "python3",
      "display_name": "Python 3"
    },
    "language_info": {
      "name": "python"
    }
  },
  "cells": [
    {
      "cell_type": "code",
      "execution_count": null,
      "metadata": {
        "id": "cYH-3_oTiF_E"
      },
      "outputs": [],
      "source": [
        "from google.colab import output\n",
        "import json\n",
        "import pprint\n",
        "import random as rn\n",
        "import numpy"
      ]
    },
    {
      "cell_type": "markdown",
      "source": [
        "# Buscar una lista de diccionarios en Python\n",
        "+ Utilice la **función next()** para buscar una lista de diccionarios en Python\n",
        "* Buscar una lista de diccionarios con la **función filter()** en Python\n",
        "* Utilice la **comprensión de listas** para buscar una lista de diccionarios en Python"
      ],
      "metadata": {
        "id": "URh1BSh1nyac"
      }
    },
    {
      "cell_type": "markdown",
      "source": [
        "# **Utilice la función next() para buscar una lista de diccionarios en Python**\n",
        "La función **next()** se puede utilizar para proporcionar el resultado como el siguiente elemento en el iterador dado. Este método también requiere el uso del bucle for para probar el proceso contra todas las condiciones.\n",
        "\n",
        "El siguiente código usa la función **next()** para buscar una lista de diccionarios en Python."
      ],
      "metadata": {
        "id": "qwIHjfthpimD"
      }
    },
    {
      "cell_type": "code",
      "source": [
        "lstdict = [\n",
        "        { \"name\": \"Mia\", \"age\": 32 },\n",
        "        { \"name\": \"Goku\", \"age\": 33 },\n",
        "        { \"name\": \"Vegueta\", \"age\": 28 },\n",
        "        { \"name\": \"Thor\", \"age\": 48 }\n",
        "       ]\n",
        "print(next(x for x in lstdict if x[\"name\"] == \"Thor\"))\n",
        "print(next((x for x in lstdict if x[\"name\"] == \"Loki\"),None))"
      ],
      "metadata": {
        "colab": {
          "base_uri": "https://localhost:8080/"
        },
        "id": "qqzXwrzvp1sb",
        "outputId": "eca1848d-d664-46ba-9e4e-226f58891b0e"
      },
      "execution_count": null,
      "outputs": [
        {
          "output_type": "stream",
          "name": "stdout",
          "text": [
            "{'name': 'Thor', 'age': 48}\n",
            "None\n"
          ]
        }
      ]
    },
    {
      "cell_type": "markdown",
      "source": [
        "Este método se implementa con éxito cuando buscamos un nombre que ya existe en la lista de diccionarios. Aún así, da un error de StopIteration cuando se busca un nombre que no existe en la lista de diccionarios.\n",
        "\n",
        "Sin embargo, este problema se puede tratar fácilmente en el código anterior. Simplemente modifica y proporciona un valor predeterminado con el uso de una API ligeramente diferente."
      ],
      "metadata": {
        "id": "EuikcRFeqaoo"
      }
    },
    {
      "cell_type": "code",
      "source": [
        "lstdict = [\n",
        "        { \"name\": \"Mia\", \"age\": 32 },\n",
        "        { \"name\": \"Goku\", \"age\": 33 },\n",
        "        { \"name\": \"Vegueta\", \"age\": 28 },\n",
        "        { \"name\": \"Thor\", \"age\": 48 }\n",
        "       ]\n",
        "print(next((x for x in lstdict if x[\"name\"] == \"Mia\"), None))\n",
        "print(next((x for x in lstdict if x[\"name\"] == \"Khalifa\"), None))\n"
      ],
      "metadata": {
        "colab": {
          "base_uri": "https://localhost:8080/"
        },
        "id": "o810ws4JqcVO",
        "outputId": "00842e86-8887-4f13-d94b-57669a166acd"
      },
      "execution_count": null,
      "outputs": [
        {
          "output_type": "stream",
          "name": "stdout",
          "text": [
            "{'name': 'Mia', 'age': 32}\n",
            "None\n"
          ]
        }
      ]
    },
    {
      "cell_type": "markdown",
      "source": [
        "En lugar de buscar el elemento en sí, también podemos encontrar el índice del elemento en una Lista de diccionarios. Para implementar esto, podemos usar la función enumerate().\n",
        "\n",
        "El siguiente código utiliza la función **next()** y la función **enumerate()** para buscar y encontrar el índice del elemento."
      ],
      "metadata": {
        "id": "YltWP0Gyr4-U"
      }
    },
    {
      "cell_type": "code",
      "source": [
        "lstdict = [\n",
        "        { \"name\": \"Mia\", \"age\": 32 },\n",
        "        { \"name\": \"Goku\", \"age\": 33 },\n",
        "        { \"name\": \"Vegueta\", \"age\": 28 },\n",
        "        { \"name\": \"Thor\", \"age\": 48 }\n",
        "       ]\n",
        "\n",
        "\n",
        "print(next((i for i, x in enumerate(lstdict) if x[\"name\"] == \"Khalifa\"), None))\n",
        "print(next((i for i, x in enumerate(lstdict) if x[\"name\"] == \"Goku\"), None))\n",
        "pos=(next((i for i, x in enumerate(lstdict) if x[\"name\"] == \"Goku\"), None))\n",
        "print (f\" {{'Goku'}} se encuantra en el INDICE {pos} Sus datos son: {lstdict[pos]}\")\n",
        "pos=(next((i for i, x in enumerate(lstdict) if x[\"name\"] == \"Khalifa\"), None))\n",
        "if (pos == None ):\n",
        " print (f\" {{'Khalifa'}} NO se encuantra en la lista \")"
      ],
      "metadata": {
        "colab": {
          "base_uri": "https://localhost:8080/"
        },
        "id": "4xDBOheop8Yc",
        "outputId": "865e101a-c858-4bb7-d173-be2efcb6e2a7"
      },
      "execution_count": null,
      "outputs": [
        {
          "output_type": "stream",
          "name": "stdout",
          "text": [
            "None\n",
            "1\n",
            " {'Goku'} se encuantra en el INDICE 1 Sus datos son: {'name': 'Goku', 'age': 33}\n",
            " {'Khalifa'} NO se encuantra en la lista \n"
          ]
        }
      ]
    },
    {
      "cell_type": "markdown",
      "source": [
        "___"
      ],
      "metadata": {
        "id": "hvsZ8pSQvSeM"
      }
    },
    {
      "cell_type": "markdown",
      "source": [
        "# **Buscar una lista de diccionarios con la función filter() en Python**"
      ],
      "metadata": {
        "id": "Za6JB9zDvU0q"
      }
    },
    {
      "cell_type": "markdown",
      "source": [
        "La función **filter(function, sequence)** se utiliza para comparar la sequence con la function en Python. Comprueba que cada elemento de la secuencia sea verdadero o no según la función. \n",
        "Podemos buscar fácilmente un elemento en una lista de diccionarios **utilizando la función filter() con una** **función lambda**. \n",
        "\n",
        "En Python3, la **función filter()** devuelve un objeto de la clase filter. Podemos convertir ese objeto en una lista con la función list()."
      ],
      "metadata": {
        "id": "xGpceltFvfWD"
      }
    },
    {
      "cell_type": "code",
      "source": [
        "#El siguiente ejemplo de código nos muestra cómo podemos buscar en \n",
        "#una lista de diccionarios un elemento específico con las \n",
        "#funciones filter() y lambda.\n",
        "\n",
        "lstdict = [\n",
        "        { \"name\": \"Mia\", \"age\": 32 },\n",
        "        { \"name\": \"Goku\", \"age\": 33 },\n",
        "        { \"name\": \"Vegueta\", \"age\": 28 },\n",
        "        { \"name\": \"Thor\", \"age\": 48 }\n",
        "       ]\n",
        "list(filter(lambda item: item['name'] == 'Vegueta', lstdict))"
      ],
      "metadata": {
        "colab": {
          "base_uri": "https://localhost:8080/"
        },
        "id": "Bl1xnnQuvfz2",
        "outputId": "c85034f9-d5ba-4140-d59e-907a001cc480"
      },
      "execution_count": null,
      "outputs": [
        {
          "output_type": "execute_result",
          "data": {
            "text/plain": [
              "[{'name': 'Vegueta', 'age': 28}]"
            ]
          },
          "metadata": {},
          "execution_count": 6
        }
      ]
    },
    {
      "cell_type": "code",
      "source": [
        "lstdict =[\n",
        "        { \"name\": \"Mia\", \"age\": 32,\"country\":\"Libano\" },\n",
        "        { \"name\": \"Goku\", \"age\": 33,\"country\":\"Planeta Vegeta\" },\n",
        "        { \"name\": \"Vegueta\", \"age\": 28, \"country\":\"Planeta Vegeta\"},\n",
        "        { \"name\": \"Thor\", \"age\": 48,\"country\":\"Asgard\" }\n",
        "       ]\n",
        "list(filter(lambda item: item['country'] == 'Planeta Vegeta', lstdict))"
      ],
      "metadata": {
        "colab": {
          "base_uri": "https://localhost:8080/"
        },
        "id": "zCCXrYrGIgNA",
        "outputId": "f9cfcc1e-07e8-4194-c664-4f8d5292832d"
      },
      "execution_count": null,
      "outputs": [
        {
          "output_type": "execute_result",
          "data": {
            "text/plain": [
              "[{'name': 'Goku', 'age': 33, 'country': 'Planeta Vegeta'},\n",
              " {'name': 'Vegueta', 'age': 28, 'country': 'Planeta Vegeta'}]"
            ]
          },
          "metadata": {},
          "execution_count": 7
        }
      ]
    },
    {
      "cell_type": "markdown",
      "source": [
        "Buscamos en la lista de diccionarios el elemento donde la clave name es igual a Richard utilizando la función filter() con una **función lambda.** \n",
        "Primero, inicializamos nuestra lista de diccionarios, listdict, y usamos la **función filter()** para buscar los valores que coinciden con la función lambda lambda item: item['name'] == 'Vegueta' in eso. Finalmente, usamos la función list() para convertir los resultados en una lista.\n",
        "\n"
      ],
      "metadata": {
        "id": "QZ7zFA2Yo-2V"
      }
    },
    {
      "cell_type": "markdown",
      "source": [
        "# **Utilice la comprensión de listas para buscar una lista de diccionarios en Python**"
      ],
      "metadata": {
        "id": "s3GN1dvi4Bb3"
      }
    },
    {
      "cell_type": "markdown",
      "source": [
        "La comprensión de listas es una forma relativamente más corta y muy elegante de crear listas que se formarán en función de los valores dados de una lista ya existente.\n",
        "\n",
        "Podemos usar la comprensión de listas para devolver una lista que produzca los resultados de la búsqueda de la lista de diccionarios en Python.\n",
        "\n",
        "El siguiente código usa la comprensión de listas para buscar una lista de diccionarios en Python."
      ],
      "metadata": {
        "id": "1979-Ct64EF0"
      }
    },
    {
      "cell_type": "code",
      "source": [
        "lstdict = [\n",
        "        { \"name\": \"Mia\", \"age\": 32 },\n",
        "        { \"name\": \"Goku\", \"age\": 33 },\n",
        "        { \"name\": \"Vegueta\", \"age\": 28 },\n",
        "        { \"name\": \"Thor\", \"age\": 48 }\n",
        "       ]\n",
        "list(filter(lambda item: item['name'] == 'Vegueta', lstdict))\n",
        "print([x for x in lstdict if x['name'] == 'Vegueta'][0])"
      ],
      "metadata": {
        "colab": {
          "base_uri": "https://localhost:8080/"
        },
        "id": "3-Vreigy4A0Y",
        "outputId": "75694cec-d788-4fd4-df3d-11d4da5caf5b"
      },
      "execution_count": null,
      "outputs": [
        {
          "output_type": "stream",
          "name": "stdout",
          "text": [
            "{'name': 'Vegueta', 'age': 28}\n"
          ]
        }
      ]
    },
    {
      "cell_type": "code",
      "source": [],
      "metadata": {
        "id": "7nQBfR05LPrY"
      },
      "execution_count": null,
      "outputs": []
    },
    {
      "cell_type": "code",
      "source": [
        "import pandas as pd\n",
        "lista = [\n",
        "        { \"name\": \"Mia\", \"age\": 32 },\n",
        "        { \"name\": \"Goku\", \"age\": 33 },\n",
        "        { \"name\": \"Vegueta\", \"age\": 28 },\n",
        "        { \"name\": \"Thor\", \"age\": 48 }\n",
        "       ]\n",
        "serie=pd.DataFrame(lista)\n",
        "print (serie)"
      ],
      "metadata": {
        "id": "cT0qFfxvKxRx"
      },
      "execution_count": null,
      "outputs": []
    },
    {
      "cell_type": "code",
      "source": [],
      "metadata": {
        "id": "2rgtgDSUnyja"
      },
      "execution_count": null,
      "outputs": []
    },
    {
      "cell_type": "markdown",
      "source": [],
      "metadata": {
        "id": "5T0M-oGNnyNk"
      }
    }
  ]
}